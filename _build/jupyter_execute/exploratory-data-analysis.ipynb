{
 "cells": [
  {
   "cell_type": "markdown",
   "id": "77c9bca8",
   "metadata": {},
   "source": [
    "# Introduction to Statistics"
   ]
  },
  {
   "cell_type": "markdown",
   "id": "942a4451",
   "metadata": {},
   "source": [
    "## What is Statistics?\n",
    "The art and science of answering questions and exploring ideas through the processes of gathering data, describing data, and making generalizations about a population on the basis of a smaller sample. In this process, we may divide our objectives to study the data about some population into the following two-\n",
    "\n",
    "- Descriptive: It allows us to describe and organize the inevitable variability among observations;\n",
    "- Inferential: It allows us to to generalize beyond limited sets of observations (this limited set of obervations are the ones that we have drawn from the original population) by adjusting for the pervasive effects of variability;"
   ]
  },
  {
   "cell_type": "markdown",
   "id": "8be6a23b",
   "metadata": {},
   "source": [
    "## What is Data?\n",
    "\n",
    "\n",
    "\n",
    "## What are the various types of data?\n",
    "\n",
    "Generally, in Math and Statistics, the variables may be Quantitative (Numerical) or Qualtitative (Categorical). These two major classfication of data maybe further divided into the following-\n",
    "\n",
    "- Numerical\n",
    " - Discrete\n",
    " - Continuous\n",
    " \n",
    "- Categorical\n",
    " - Ordinal\n",
    " - Nominal\n"
   ]
  },
  {
   "cell_type": "markdown",
   "id": "3f594ab3",
   "metadata": {},
   "source": [
    "**Numerical variables**\n",
    "\n",
    "A numerical variable can take a wide range of numerical values, and it is sensible to add, subtract, or take averages with those values.\n",
    "\n",
    "- **Discrete**\n",
    "\n",
    " A discrete numerical variable is a variable whose value is obtained by counting. For example, the number of students present in a class or the number of heads when flipping three coins.\n",
    "\n",
    "\n",
    "- **Continuous**\n",
    "\n",
    " A continuous variable is a numerical variable whose value is obtained by measuring. For example, the height of the students in class or the time it takes a student to get to school."
   ]
  },
  {
   "cell_type": "markdown",
   "id": "b18ef8de",
   "metadata": {},
   "source": [
    "**Categorical variables**\n",
    "\n",
    "A categorical variable takes a limited, and usually fixed, number of possible values (categories). The possible values are called the variable's levels.\n",
    "- **Binary**:\n",
    "A Binary variable is a categorical variable whose outcomes may take only one of the two possible values. For example, Male and Female.\n",
    "\n",
    "- **Ordinal**: \n",
    "An ordinal variable is a categorical variable whose levels have a natural notion of order. For example, the age range of the students or the agreement with a statement (\"strongly agree\", \"agree\", \"disagree\", etc).\n",
    "\n",
    "- **Nominal**:\n",
    "A nominal variable is a categorical variable without any notion of order. For example, we can consider genders or blood type."
   ]
  },
  {
   "cell_type": "code",
   "execution_count": null,
   "id": "f7d550da",
   "metadata": {},
   "outputs": [],
   "source": []
  },
  {
   "cell_type": "markdown",
   "id": "172bc626",
   "metadata": {},
   "source": [
    "## Collecting and Summarizing Data\n",
    "\n",
    "The lesson starts with a discussion about how to collect data and different methods to use. Once the data is collected, we need to summarize the data. How to summarize the data depends on which variable type we have. All of these concepts will be presented here.\n",
    "\n"
   ]
  },
  {
   "cell_type": "markdown",
   "id": "d06aa6bb",
   "metadata": {},
   "source": [
    "Statistical methods are based on the notion of implied randomness. If observational data is not collected in a random framework from a population, these statistical methods – the estimates and errors associated with the estimates – are not reliable."
   ]
  },
  {
   "cell_type": "markdown",
   "id": "506848d7",
   "metadata": {},
   "source": [
    "### Simple random sampling\n",
    "\n",
    "In general, a sample is referred to a Simple Random Sampling if each case in the population has an equal chance of being included in the final sample and knowing that a case is included in a sample does not provide useful information about which other cases are included."
   ]
  },
  {
   "cell_type": "code",
   "execution_count": 1,
   "id": "4913a975",
   "metadata": {},
   "outputs": [
    {
     "data": {
      "text/html": [
       "<div>\n",
       "<style scoped>\n",
       "    .dataframe tbody tr th:only-of-type {\n",
       "        vertical-align: middle;\n",
       "    }\n",
       "\n",
       "    .dataframe tbody tr th {\n",
       "        vertical-align: top;\n",
       "    }\n",
       "\n",
       "    .dataframe thead th {\n",
       "        text-align: right;\n",
       "    }\n",
       "</style>\n",
       "<table border=\"1\" class=\"dataframe\">\n",
       "  <thead>\n",
       "    <tr style=\"text-align: right;\">\n",
       "      <th></th>\n",
       "      <th>age</th>\n",
       "      <th>status</th>\n",
       "      <th>sex</th>\n",
       "      <th>orientation</th>\n",
       "      <th>diet</th>\n",
       "      <th>drinks</th>\n",
       "    </tr>\n",
       "  </thead>\n",
       "  <tbody>\n",
       "    <tr>\n",
       "      <th>31671</th>\n",
       "      <td>34</td>\n",
       "      <td>single</td>\n",
       "      <td>f</td>\n",
       "      <td>straight</td>\n",
       "      <td>anything</td>\n",
       "      <td>socially</td>\n",
       "    </tr>\n",
       "    <tr>\n",
       "      <th>12377</th>\n",
       "      <td>33</td>\n",
       "      <td>single</td>\n",
       "      <td>m</td>\n",
       "      <td>straight</td>\n",
       "      <td>strictly anything</td>\n",
       "      <td>NaN</td>\n",
       "    </tr>\n",
       "    <tr>\n",
       "      <th>2320</th>\n",
       "      <td>28</td>\n",
       "      <td>single</td>\n",
       "      <td>m</td>\n",
       "      <td>straight</td>\n",
       "      <td>NaN</td>\n",
       "      <td>socially</td>\n",
       "    </tr>\n",
       "    <tr>\n",
       "      <th>48279</th>\n",
       "      <td>24</td>\n",
       "      <td>single</td>\n",
       "      <td>m</td>\n",
       "      <td>straight</td>\n",
       "      <td>strictly anything</td>\n",
       "      <td>socially</td>\n",
       "    </tr>\n",
       "    <tr>\n",
       "      <th>26267</th>\n",
       "      <td>28</td>\n",
       "      <td>single</td>\n",
       "      <td>m</td>\n",
       "      <td>straight</td>\n",
       "      <td>NaN</td>\n",
       "      <td>socially</td>\n",
       "    </tr>\n",
       "  </tbody>\n",
       "</table>\n",
       "</div>"
      ],
      "text/plain": [
       "       age  status sex orientation               diet    drinks\n",
       "31671   34  single   f    straight           anything  socially\n",
       "12377   33  single   m    straight  strictly anything       NaN\n",
       "2320    28  single   m    straight                NaN  socially\n",
       "48279   24  single   m    straight  strictly anything  socially\n",
       "26267   28  single   m    straight                NaN  socially"
      ]
     },
     "execution_count": 1,
     "metadata": {},
     "output_type": "execute_result"
    }
   ],
   "source": [
    "from pandas import read_csv\n",
    "dating_profiles = read_csv('dating_profiles.csv', index_col= [0])\n",
    "dating_profiles.sample(5)[[\"age\", \"status\", \"sex\", \"orientation\", \"diet\", \"drinks\"]]"
   ]
  },
  {
   "cell_type": "markdown",
   "id": "53093cb6",
   "metadata": {},
   "source": [
    "### Stratified random sampling\n",
    "\n",
    "In Stratified Random Sampling the population is divided into groups called strata. The strata are chosen so that similar cases are grouped together, then a second sampling method, usually simple random sampling, is employed within each stratum."
   ]
  },
  {
   "cell_type": "code",
   "execution_count": 2,
   "id": "51f629b8",
   "metadata": {},
   "outputs": [
    {
     "data": {
      "text/html": [
       "<div>\n",
       "<style scoped>\n",
       "    .dataframe tbody tr th:only-of-type {\n",
       "        vertical-align: middle;\n",
       "    }\n",
       "\n",
       "    .dataframe tbody tr th {\n",
       "        vertical-align: top;\n",
       "    }\n",
       "\n",
       "    .dataframe thead th {\n",
       "        text-align: right;\n",
       "    }\n",
       "</style>\n",
       "<table border=\"1\" class=\"dataframe\">\n",
       "  <thead>\n",
       "    <tr style=\"text-align: right;\">\n",
       "      <th></th>\n",
       "      <th>age</th>\n",
       "      <th>status</th>\n",
       "      <th>sex</th>\n",
       "      <th>orientation</th>\n",
       "      <th>diet</th>\n",
       "      <th>drinks</th>\n",
       "    </tr>\n",
       "  </thead>\n",
       "  <tbody>\n",
       "    <tr>\n",
       "      <th>815</th>\n",
       "      <td>25</td>\n",
       "      <td>available</td>\n",
       "      <td>f</td>\n",
       "      <td>bisexual</td>\n",
       "      <td>mostly anything</td>\n",
       "      <td>socially</td>\n",
       "    </tr>\n",
       "    <tr>\n",
       "      <th>32242</th>\n",
       "      <td>22</td>\n",
       "      <td>single</td>\n",
       "      <td>f</td>\n",
       "      <td>bisexual</td>\n",
       "      <td>NaN</td>\n",
       "      <td>socially</td>\n",
       "    </tr>\n",
       "    <tr>\n",
       "      <th>35215</th>\n",
       "      <td>43</td>\n",
       "      <td>single</td>\n",
       "      <td>f</td>\n",
       "      <td>gay</td>\n",
       "      <td>mostly anything</td>\n",
       "      <td>not at all</td>\n",
       "    </tr>\n",
       "    <tr>\n",
       "      <th>1318</th>\n",
       "      <td>22</td>\n",
       "      <td>single</td>\n",
       "      <td>m</td>\n",
       "      <td>gay</td>\n",
       "      <td>mostly anything</td>\n",
       "      <td>rarely</td>\n",
       "    </tr>\n",
       "    <tr>\n",
       "      <th>8530</th>\n",
       "      <td>34</td>\n",
       "      <td>single</td>\n",
       "      <td>m</td>\n",
       "      <td>straight</td>\n",
       "      <td>NaN</td>\n",
       "      <td>socially</td>\n",
       "    </tr>\n",
       "    <tr>\n",
       "      <th>53347</th>\n",
       "      <td>33</td>\n",
       "      <td>single</td>\n",
       "      <td>f</td>\n",
       "      <td>straight</td>\n",
       "      <td>kosher</td>\n",
       "      <td>socially</td>\n",
       "    </tr>\n",
       "  </tbody>\n",
       "</table>\n",
       "</div>"
      ],
      "text/plain": [
       "       age     status sex orientation             diet      drinks\n",
       "815     25  available   f    bisexual  mostly anything    socially\n",
       "32242   22     single   f    bisexual              NaN    socially\n",
       "35215   43     single   f         gay  mostly anything  not at all\n",
       "1318    22     single   m         gay  mostly anything      rarely\n",
       "8530    34     single   m    straight              NaN    socially\n",
       "53347   33     single   f    straight           kosher    socially"
      ]
     },
     "execution_count": 2,
     "metadata": {},
     "output_type": "execute_result"
    }
   ],
   "source": [
    "# Break the code and find more extreme cases\n",
    "from pandas import read_csv\n",
    "dating_profiles = read_csv('dating_profiles.csv', index_col= [0])\n",
    "dating_profiles.groupby(\"orientation\", group_keys=False)\\\n",
    ".apply(lambda x: x.sample(2))[[\"age\", \"status\", \"sex\", \"orientation\", \"diet\", \"drinks\"]]"
   ]
  },
  {
   "cell_type": "code",
   "execution_count": 3,
   "id": "8e8c1821",
   "metadata": {},
   "outputs": [
    {
     "data": {
      "text/html": [
       "<div>\n",
       "<style scoped>\n",
       "    .dataframe tbody tr th:only-of-type {\n",
       "        vertical-align: middle;\n",
       "    }\n",
       "\n",
       "    .dataframe tbody tr th {\n",
       "        vertical-align: top;\n",
       "    }\n",
       "\n",
       "    .dataframe thead th {\n",
       "        text-align: right;\n",
       "    }\n",
       "</style>\n",
       "<table border=\"1\" class=\"dataframe\">\n",
       "  <thead>\n",
       "    <tr style=\"text-align: right;\">\n",
       "      <th></th>\n",
       "      <th>age</th>\n",
       "      <th>status</th>\n",
       "      <th>sex</th>\n",
       "      <th>orientation</th>\n",
       "      <th>body_type</th>\n",
       "      <th>diet</th>\n",
       "      <th>drugs</th>\n",
       "      <th>education</th>\n",
       "      <th>ethnicity</th>\n",
       "      <th>height</th>\n",
       "      <th>income</th>\n",
       "      <th>job</th>\n",
       "      <th>last_online</th>\n",
       "      <th>location</th>\n",
       "      <th>sign</th>\n",
       "    </tr>\n",
       "    <tr>\n",
       "      <th>drinks</th>\n",
       "      <th></th>\n",
       "      <th></th>\n",
       "      <th></th>\n",
       "      <th></th>\n",
       "      <th></th>\n",
       "      <th></th>\n",
       "      <th></th>\n",
       "      <th></th>\n",
       "      <th></th>\n",
       "      <th></th>\n",
       "      <th></th>\n",
       "      <th></th>\n",
       "      <th></th>\n",
       "      <th></th>\n",
       "      <th></th>\n",
       "    </tr>\n",
       "  </thead>\n",
       "  <tbody>\n",
       "    <tr>\n",
       "      <th>desperately</th>\n",
       "      <td>322</td>\n",
       "      <td>322</td>\n",
       "      <td>322</td>\n",
       "      <td>322</td>\n",
       "      <td>299</td>\n",
       "      <td>233</td>\n",
       "      <td>232</td>\n",
       "      <td>289</td>\n",
       "      <td>269</td>\n",
       "      <td>322</td>\n",
       "      <td>322</td>\n",
       "      <td>277</td>\n",
       "      <td>322</td>\n",
       "      <td>322</td>\n",
       "      <td>243</td>\n",
       "    </tr>\n",
       "    <tr>\n",
       "      <th>not at all</th>\n",
       "      <td>3267</td>\n",
       "      <td>3267</td>\n",
       "      <td>3267</td>\n",
       "      <td>3267</td>\n",
       "      <td>3039</td>\n",
       "      <td>1983</td>\n",
       "      <td>3067</td>\n",
       "      <td>2848</td>\n",
       "      <td>3007</td>\n",
       "      <td>3267</td>\n",
       "      <td>3267</td>\n",
       "      <td>2868</td>\n",
       "      <td>3267</td>\n",
       "      <td>3267</td>\n",
       "      <td>2770</td>\n",
       "    </tr>\n",
       "    <tr>\n",
       "      <th>often</th>\n",
       "      <td>5164</td>\n",
       "      <td>5164</td>\n",
       "      <td>5164</td>\n",
       "      <td>5164</td>\n",
       "      <td>4656</td>\n",
       "      <td>3196</td>\n",
       "      <td>3829</td>\n",
       "      <td>4620</td>\n",
       "      <td>4675</td>\n",
       "      <td>5164</td>\n",
       "      <td>5164</td>\n",
       "      <td>4531</td>\n",
       "      <td>5164</td>\n",
       "      <td>5164</td>\n",
       "      <td>4289</td>\n",
       "    </tr>\n",
       "    <tr>\n",
       "      <th>rarely</th>\n",
       "      <td>5957</td>\n",
       "      <td>5957</td>\n",
       "      <td>5957</td>\n",
       "      <td>5957</td>\n",
       "      <td>5487</td>\n",
       "      <td>3465</td>\n",
       "      <td>5188</td>\n",
       "      <td>5374</td>\n",
       "      <td>5494</td>\n",
       "      <td>5957</td>\n",
       "      <td>5957</td>\n",
       "      <td>5328</td>\n",
       "      <td>5957</td>\n",
       "      <td>5957</td>\n",
       "      <td>5034</td>\n",
       "    </tr>\n",
       "    <tr>\n",
       "      <th>socially</th>\n",
       "      <td>41780</td>\n",
       "      <td>41780</td>\n",
       "      <td>41780</td>\n",
       "      <td>41780</td>\n",
       "      <td>38399</td>\n",
       "      <td>25382</td>\n",
       "      <td>31531</td>\n",
       "      <td>38001</td>\n",
       "      <td>38141</td>\n",
       "      <td>41780</td>\n",
       "      <td>41780</td>\n",
       "      <td>36756</td>\n",
       "      <td>41780</td>\n",
       "      <td>41780</td>\n",
       "      <td>34647</td>\n",
       "    </tr>\n",
       "    <tr>\n",
       "      <th>very often</th>\n",
       "      <td>471</td>\n",
       "      <td>471</td>\n",
       "      <td>471</td>\n",
       "      <td>471</td>\n",
       "      <td>438</td>\n",
       "      <td>319</td>\n",
       "      <td>406</td>\n",
       "      <td>396</td>\n",
       "      <td>413</td>\n",
       "      <td>471</td>\n",
       "      <td>471</td>\n",
       "      <td>408</td>\n",
       "      <td>471</td>\n",
       "      <td>471</td>\n",
       "      <td>381</td>\n",
       "    </tr>\n",
       "  </tbody>\n",
       "</table>\n",
       "</div>"
      ],
      "text/plain": [
       "               age  status    sex  orientation  body_type   diet  drugs  \\\n",
       "drinks                                                                    \n",
       "desperately    322     322    322          322        299    233    232   \n",
       "not at all    3267    3267   3267         3267       3039   1983   3067   \n",
       "often         5164    5164   5164         5164       4656   3196   3829   \n",
       "rarely        5957    5957   5957         5957       5487   3465   5188   \n",
       "socially     41780   41780  41780        41780      38399  25382  31531   \n",
       "very often     471     471    471          471        438    319    406   \n",
       "\n",
       "             education  ethnicity  height  income    job  last_online  \\\n",
       "drinks                                                                  \n",
       "desperately        289        269     322     322    277          322   \n",
       "not at all        2848       3007    3267    3267   2868         3267   \n",
       "often             4620       4675    5164    5164   4531         5164   \n",
       "rarely            5374       5494    5957    5957   5328         5957   \n",
       "socially         38001      38141   41780   41780  36756        41780   \n",
       "very often         396        413     471     471    408          471   \n",
       "\n",
       "             location   sign  \n",
       "drinks                        \n",
       "desperately       322    243  \n",
       "not at all       3267   2770  \n",
       "often            5164   4289  \n",
       "rarely           5957   5034  \n",
       "socially        41780  34647  \n",
       "very often        471    381  "
      ]
     },
     "execution_count": 3,
     "metadata": {},
     "output_type": "execute_result"
    }
   ],
   "source": [
    "dating_profiles.groupby('drinks').count()"
   ]
  },
  {
   "cell_type": "code",
   "execution_count": 4,
   "id": "2c2ec859",
   "metadata": {},
   "outputs": [
    {
     "data": {
      "text/html": [
       "<div>\n",
       "<style scoped>\n",
       "    .dataframe tbody tr th:only-of-type {\n",
       "        vertical-align: middle;\n",
       "    }\n",
       "\n",
       "    .dataframe tbody tr th {\n",
       "        vertical-align: top;\n",
       "    }\n",
       "\n",
       "    .dataframe thead th {\n",
       "        text-align: right;\n",
       "    }\n",
       "</style>\n",
       "<table border=\"1\" class=\"dataframe\">\n",
       "  <thead>\n",
       "    <tr style=\"text-align: right;\">\n",
       "      <th></th>\n",
       "      <th>age</th>\n",
       "      <th>status</th>\n",
       "      <th>sex</th>\n",
       "      <th>orientation</th>\n",
       "      <th>diet</th>\n",
       "      <th>drinks</th>\n",
       "    </tr>\n",
       "  </thead>\n",
       "  <tbody>\n",
       "    <tr>\n",
       "      <th>28226</th>\n",
       "      <td>29</td>\n",
       "      <td>single</td>\n",
       "      <td>f</td>\n",
       "      <td>straight</td>\n",
       "      <td>anything</td>\n",
       "      <td>socially</td>\n",
       "    </tr>\n",
       "    <tr>\n",
       "      <th>53549</th>\n",
       "      <td>31</td>\n",
       "      <td>single</td>\n",
       "      <td>f</td>\n",
       "      <td>straight</td>\n",
       "      <td>anything</td>\n",
       "      <td>NaN</td>\n",
       "    </tr>\n",
       "    <tr>\n",
       "      <th>29349</th>\n",
       "      <td>28</td>\n",
       "      <td>single</td>\n",
       "      <td>f</td>\n",
       "      <td>straight</td>\n",
       "      <td>halal</td>\n",
       "      <td>NaN</td>\n",
       "    </tr>\n",
       "    <tr>\n",
       "      <th>48549</th>\n",
       "      <td>23</td>\n",
       "      <td>single</td>\n",
       "      <td>m</td>\n",
       "      <td>straight</td>\n",
       "      <td>halal</td>\n",
       "      <td>not at all</td>\n",
       "    </tr>\n",
       "    <tr>\n",
       "      <th>13040</th>\n",
       "      <td>28</td>\n",
       "      <td>single</td>\n",
       "      <td>m</td>\n",
       "      <td>straight</td>\n",
       "      <td>kosher</td>\n",
       "      <td>socially</td>\n",
       "    </tr>\n",
       "    <tr>\n",
       "      <th>53196</th>\n",
       "      <td>28</td>\n",
       "      <td>single</td>\n",
       "      <td>m</td>\n",
       "      <td>straight</td>\n",
       "      <td>kosher</td>\n",
       "      <td>socially</td>\n",
       "    </tr>\n",
       "    <tr>\n",
       "      <th>46708</th>\n",
       "      <td>34</td>\n",
       "      <td>single</td>\n",
       "      <td>m</td>\n",
       "      <td>straight</td>\n",
       "      <td>mostly anything</td>\n",
       "      <td>socially</td>\n",
       "    </tr>\n",
       "    <tr>\n",
       "      <th>58968</th>\n",
       "      <td>48</td>\n",
       "      <td>single</td>\n",
       "      <td>m</td>\n",
       "      <td>gay</td>\n",
       "      <td>mostly anything</td>\n",
       "      <td>socially</td>\n",
       "    </tr>\n",
       "    <tr>\n",
       "      <th>4852</th>\n",
       "      <td>29</td>\n",
       "      <td>single</td>\n",
       "      <td>m</td>\n",
       "      <td>straight</td>\n",
       "      <td>mostly halal</td>\n",
       "      <td>socially</td>\n",
       "    </tr>\n",
       "    <tr>\n",
       "      <th>7684</th>\n",
       "      <td>35</td>\n",
       "      <td>single</td>\n",
       "      <td>m</td>\n",
       "      <td>straight</td>\n",
       "      <td>mostly halal</td>\n",
       "      <td>socially</td>\n",
       "    </tr>\n",
       "    <tr>\n",
       "      <th>798</th>\n",
       "      <td>21</td>\n",
       "      <td>single</td>\n",
       "      <td>m</td>\n",
       "      <td>straight</td>\n",
       "      <td>mostly kosher</td>\n",
       "      <td>rarely</td>\n",
       "    </tr>\n",
       "    <tr>\n",
       "      <th>29563</th>\n",
       "      <td>44</td>\n",
       "      <td>single</td>\n",
       "      <td>m</td>\n",
       "      <td>straight</td>\n",
       "      <td>mostly kosher</td>\n",
       "      <td>NaN</td>\n",
       "    </tr>\n",
       "    <tr>\n",
       "      <th>30152</th>\n",
       "      <td>43</td>\n",
       "      <td>single</td>\n",
       "      <td>m</td>\n",
       "      <td>straight</td>\n",
       "      <td>mostly other</td>\n",
       "      <td>often</td>\n",
       "    </tr>\n",
       "    <tr>\n",
       "      <th>59371</th>\n",
       "      <td>48</td>\n",
       "      <td>single</td>\n",
       "      <td>m</td>\n",
       "      <td>straight</td>\n",
       "      <td>mostly other</td>\n",
       "      <td>rarely</td>\n",
       "    </tr>\n",
       "    <tr>\n",
       "      <th>36671</th>\n",
       "      <td>29</td>\n",
       "      <td>single</td>\n",
       "      <td>m</td>\n",
       "      <td>gay</td>\n",
       "      <td>mostly vegan</td>\n",
       "      <td>rarely</td>\n",
       "    </tr>\n",
       "    <tr>\n",
       "      <th>17371</th>\n",
       "      <td>32</td>\n",
       "      <td>single</td>\n",
       "      <td>f</td>\n",
       "      <td>straight</td>\n",
       "      <td>mostly vegan</td>\n",
       "      <td>socially</td>\n",
       "    </tr>\n",
       "    <tr>\n",
       "      <th>53151</th>\n",
       "      <td>32</td>\n",
       "      <td>single</td>\n",
       "      <td>m</td>\n",
       "      <td>straight</td>\n",
       "      <td>mostly vegetarian</td>\n",
       "      <td>socially</td>\n",
       "    </tr>\n",
       "    <tr>\n",
       "      <th>25909</th>\n",
       "      <td>32</td>\n",
       "      <td>single</td>\n",
       "      <td>m</td>\n",
       "      <td>straight</td>\n",
       "      <td>mostly vegetarian</td>\n",
       "      <td>not at all</td>\n",
       "    </tr>\n",
       "    <tr>\n",
       "      <th>46070</th>\n",
       "      <td>27</td>\n",
       "      <td>single</td>\n",
       "      <td>m</td>\n",
       "      <td>straight</td>\n",
       "      <td>other</td>\n",
       "      <td>rarely</td>\n",
       "    </tr>\n",
       "    <tr>\n",
       "      <th>40331</th>\n",
       "      <td>62</td>\n",
       "      <td>single</td>\n",
       "      <td>m</td>\n",
       "      <td>straight</td>\n",
       "      <td>other</td>\n",
       "      <td>rarely</td>\n",
       "    </tr>\n",
       "    <tr>\n",
       "      <th>34410</th>\n",
       "      <td>30</td>\n",
       "      <td>single</td>\n",
       "      <td>m</td>\n",
       "      <td>bisexual</td>\n",
       "      <td>strictly anything</td>\n",
       "      <td>very often</td>\n",
       "    </tr>\n",
       "    <tr>\n",
       "      <th>43357</th>\n",
       "      <td>26</td>\n",
       "      <td>single</td>\n",
       "      <td>m</td>\n",
       "      <td>straight</td>\n",
       "      <td>strictly anything</td>\n",
       "      <td>socially</td>\n",
       "    </tr>\n",
       "    <tr>\n",
       "      <th>44309</th>\n",
       "      <td>20</td>\n",
       "      <td>single</td>\n",
       "      <td>m</td>\n",
       "      <td>straight</td>\n",
       "      <td>strictly halal</td>\n",
       "      <td>socially</td>\n",
       "    </tr>\n",
       "    <tr>\n",
       "      <th>53477</th>\n",
       "      <td>25</td>\n",
       "      <td>single</td>\n",
       "      <td>m</td>\n",
       "      <td>straight</td>\n",
       "      <td>strictly halal</td>\n",
       "      <td>not at all</td>\n",
       "    </tr>\n",
       "    <tr>\n",
       "      <th>13145</th>\n",
       "      <td>43</td>\n",
       "      <td>single</td>\n",
       "      <td>f</td>\n",
       "      <td>gay</td>\n",
       "      <td>strictly kosher</td>\n",
       "      <td>not at all</td>\n",
       "    </tr>\n",
       "    <tr>\n",
       "      <th>30929</th>\n",
       "      <td>32</td>\n",
       "      <td>single</td>\n",
       "      <td>m</td>\n",
       "      <td>straight</td>\n",
       "      <td>strictly kosher</td>\n",
       "      <td>not at all</td>\n",
       "    </tr>\n",
       "    <tr>\n",
       "      <th>28917</th>\n",
       "      <td>36</td>\n",
       "      <td>single</td>\n",
       "      <td>m</td>\n",
       "      <td>straight</td>\n",
       "      <td>strictly other</td>\n",
       "      <td>socially</td>\n",
       "    </tr>\n",
       "    <tr>\n",
       "      <th>40044</th>\n",
       "      <td>34</td>\n",
       "      <td>single</td>\n",
       "      <td>m</td>\n",
       "      <td>gay</td>\n",
       "      <td>strictly other</td>\n",
       "      <td>rarely</td>\n",
       "    </tr>\n",
       "    <tr>\n",
       "      <th>44208</th>\n",
       "      <td>29</td>\n",
       "      <td>married</td>\n",
       "      <td>m</td>\n",
       "      <td>straight</td>\n",
       "      <td>strictly vegan</td>\n",
       "      <td>very often</td>\n",
       "    </tr>\n",
       "    <tr>\n",
       "      <th>39446</th>\n",
       "      <td>22</td>\n",
       "      <td>single</td>\n",
       "      <td>m</td>\n",
       "      <td>gay</td>\n",
       "      <td>strictly vegan</td>\n",
       "      <td>socially</td>\n",
       "    </tr>\n",
       "    <tr>\n",
       "      <th>24711</th>\n",
       "      <td>28</td>\n",
       "      <td>single</td>\n",
       "      <td>f</td>\n",
       "      <td>straight</td>\n",
       "      <td>strictly vegetarian</td>\n",
       "      <td>rarely</td>\n",
       "    </tr>\n",
       "    <tr>\n",
       "      <th>44876</th>\n",
       "      <td>27</td>\n",
       "      <td>single</td>\n",
       "      <td>m</td>\n",
       "      <td>straight</td>\n",
       "      <td>strictly vegetarian</td>\n",
       "      <td>socially</td>\n",
       "    </tr>\n",
       "    <tr>\n",
       "      <th>54184</th>\n",
       "      <td>58</td>\n",
       "      <td>single</td>\n",
       "      <td>m</td>\n",
       "      <td>straight</td>\n",
       "      <td>vegan</td>\n",
       "      <td>socially</td>\n",
       "    </tr>\n",
       "    <tr>\n",
       "      <th>36324</th>\n",
       "      <td>59</td>\n",
       "      <td>single</td>\n",
       "      <td>f</td>\n",
       "      <td>straight</td>\n",
       "      <td>vegan</td>\n",
       "      <td>not at all</td>\n",
       "    </tr>\n",
       "    <tr>\n",
       "      <th>19896</th>\n",
       "      <td>42</td>\n",
       "      <td>single</td>\n",
       "      <td>m</td>\n",
       "      <td>straight</td>\n",
       "      <td>vegetarian</td>\n",
       "      <td>socially</td>\n",
       "    </tr>\n",
       "    <tr>\n",
       "      <th>57343</th>\n",
       "      <td>25</td>\n",
       "      <td>available</td>\n",
       "      <td>m</td>\n",
       "      <td>straight</td>\n",
       "      <td>vegetarian</td>\n",
       "      <td>often</td>\n",
       "    </tr>\n",
       "  </tbody>\n",
       "</table>\n",
       "</div>"
      ],
      "text/plain": [
       "       age     status sex orientation                 diet      drinks\n",
       "28226   29     single   f    straight             anything    socially\n",
       "53549   31     single   f    straight             anything         NaN\n",
       "29349   28     single   f    straight                halal         NaN\n",
       "48549   23     single   m    straight                halal  not at all\n",
       "13040   28     single   m    straight               kosher    socially\n",
       "53196   28     single   m    straight               kosher    socially\n",
       "46708   34     single   m    straight      mostly anything    socially\n",
       "58968   48     single   m         gay      mostly anything    socially\n",
       "4852    29     single   m    straight         mostly halal    socially\n",
       "7684    35     single   m    straight         mostly halal    socially\n",
       "798     21     single   m    straight        mostly kosher      rarely\n",
       "29563   44     single   m    straight        mostly kosher         NaN\n",
       "30152   43     single   m    straight         mostly other       often\n",
       "59371   48     single   m    straight         mostly other      rarely\n",
       "36671   29     single   m         gay         mostly vegan      rarely\n",
       "17371   32     single   f    straight         mostly vegan    socially\n",
       "53151   32     single   m    straight    mostly vegetarian    socially\n",
       "25909   32     single   m    straight    mostly vegetarian  not at all\n",
       "46070   27     single   m    straight                other      rarely\n",
       "40331   62     single   m    straight                other      rarely\n",
       "34410   30     single   m    bisexual    strictly anything  very often\n",
       "43357   26     single   m    straight    strictly anything    socially\n",
       "44309   20     single   m    straight       strictly halal    socially\n",
       "53477   25     single   m    straight       strictly halal  not at all\n",
       "13145   43     single   f         gay      strictly kosher  not at all\n",
       "30929   32     single   m    straight      strictly kosher  not at all\n",
       "28917   36     single   m    straight       strictly other    socially\n",
       "40044   34     single   m         gay       strictly other      rarely\n",
       "44208   29    married   m    straight       strictly vegan  very often\n",
       "39446   22     single   m         gay       strictly vegan    socially\n",
       "24711   28     single   f    straight  strictly vegetarian      rarely\n",
       "44876   27     single   m    straight  strictly vegetarian    socially\n",
       "54184   58     single   m    straight                vegan    socially\n",
       "36324   59     single   f    straight                vegan  not at all\n",
       "19896   42     single   m    straight           vegetarian    socially\n",
       "57343   25  available   m    straight           vegetarian       often"
      ]
     },
     "execution_count": 4,
     "metadata": {},
     "output_type": "execute_result"
    }
   ],
   "source": [
    "from pandas import read_csv\n",
    "dating_profiles = read_csv('dating_profiles.csv', index_col= [0])\n",
    "dating_profiles.groupby(\"diet\", group_keys=False)\\\n",
    ".apply(lambda x: x.sample(min(len(x), 2)))[[\"age\", \"status\", \"sex\", \"orientation\", \"diet\", \"drinks\"]]"
   ]
  },
  {
   "cell_type": "markdown",
   "id": "6d85d7e1",
   "metadata": {},
   "source": [
    "### Cluster random sampling\n",
    "\n",
    "In a Cluster Random Sample, we break up the population into many groups, called clusters. Then we sample a fixed number of clusters and include all observations from each of those clusters in the sample."
   ]
  },
  {
   "cell_type": "markdown",
   "id": "dcb42adb",
   "metadata": {},
   "source": [
    "### Multistage random sampling\n",
    "\n",
    "A Multistage Random Sample is like a cluster sample, but rather than keeping all observations in each cluster, we collect a random sample within each selected cluster."
   ]
  },
  {
   "cell_type": "markdown",
   "id": "8c6d59f1",
   "metadata": {},
   "source": [
    "### Sample with and without replacement\n",
    "\n",
    "When a sampling unit is drawn from a finite population and is returned to that population, after its characteristics have been recorded, before the next unit is drawn, the sampling is said to be “with replacement”.\n",
    "\n",
    "Otherwise, the sampling is said to be \"without replacement\"."
   ]
  },
  {
   "cell_type": "code",
   "execution_count": 5,
   "id": "8ac8765c",
   "metadata": {},
   "outputs": [
    {
     "data": {
      "text/html": [
       "<div>\n",
       "<style scoped>\n",
       "    .dataframe tbody tr th:only-of-type {\n",
       "        vertical-align: middle;\n",
       "    }\n",
       "\n",
       "    .dataframe tbody tr th {\n",
       "        vertical-align: top;\n",
       "    }\n",
       "\n",
       "    .dataframe thead th {\n",
       "        text-align: right;\n",
       "    }\n",
       "</style>\n",
       "<table border=\"1\" class=\"dataframe\">\n",
       "  <thead>\n",
       "    <tr style=\"text-align: right;\">\n",
       "      <th></th>\n",
       "      <th>age</th>\n",
       "      <th>status</th>\n",
       "      <th>sex</th>\n",
       "      <th>orientation</th>\n",
       "      <th>diet</th>\n",
       "      <th>drinks</th>\n",
       "    </tr>\n",
       "  </thead>\n",
       "  <tbody>\n",
       "    <tr>\n",
       "      <th>0</th>\n",
       "      <td>22</td>\n",
       "      <td>single</td>\n",
       "      <td>m</td>\n",
       "      <td>straight</td>\n",
       "      <td>strictly anything</td>\n",
       "      <td>socially</td>\n",
       "    </tr>\n",
       "    <tr>\n",
       "      <th>1</th>\n",
       "      <td>35</td>\n",
       "      <td>single</td>\n",
       "      <td>m</td>\n",
       "      <td>straight</td>\n",
       "      <td>mostly other</td>\n",
       "      <td>often</td>\n",
       "    </tr>\n",
       "    <tr>\n",
       "      <th>2</th>\n",
       "      <td>38</td>\n",
       "      <td>available</td>\n",
       "      <td>m</td>\n",
       "      <td>straight</td>\n",
       "      <td>anything</td>\n",
       "      <td>socially</td>\n",
       "    </tr>\n",
       "    <tr>\n",
       "      <th>3</th>\n",
       "      <td>23</td>\n",
       "      <td>single</td>\n",
       "      <td>m</td>\n",
       "      <td>straight</td>\n",
       "      <td>vegetarian</td>\n",
       "      <td>socially</td>\n",
       "    </tr>\n",
       "    <tr>\n",
       "      <th>4</th>\n",
       "      <td>29</td>\n",
       "      <td>single</td>\n",
       "      <td>m</td>\n",
       "      <td>straight</td>\n",
       "      <td>NaN</td>\n",
       "      <td>socially</td>\n",
       "    </tr>\n",
       "  </tbody>\n",
       "</table>\n",
       "</div>"
      ],
      "text/plain": [
       "   age     status sex orientation               diet    drinks\n",
       "0   22     single   m    straight  strictly anything  socially\n",
       "1   35     single   m    straight       mostly other     often\n",
       "2   38  available   m    straight           anything  socially\n",
       "3   23     single   m    straight         vegetarian  socially\n",
       "4   29     single   m    straight                NaN  socially"
      ]
     },
     "execution_count": 5,
     "metadata": {},
     "output_type": "execute_result"
    }
   ],
   "source": [
    "# sampling with replacement\n",
    "dating_profiles.head(5)[[\"age\", \"status\", \"sex\", \"orientation\", \"diet\", \"drinks\"]]"
   ]
  },
  {
   "cell_type": "code",
   "execution_count": 6,
   "id": "94fc0f5a",
   "metadata": {},
   "outputs": [
    {
     "data": {
      "text/html": [
       "<div>\n",
       "<style scoped>\n",
       "    .dataframe tbody tr th:only-of-type {\n",
       "        vertical-align: middle;\n",
       "    }\n",
       "\n",
       "    .dataframe tbody tr th {\n",
       "        vertical-align: top;\n",
       "    }\n",
       "\n",
       "    .dataframe thead th {\n",
       "        text-align: right;\n",
       "    }\n",
       "</style>\n",
       "<table border=\"1\" class=\"dataframe\">\n",
       "  <thead>\n",
       "    <tr style=\"text-align: right;\">\n",
       "      <th></th>\n",
       "      <th>age</th>\n",
       "      <th>status</th>\n",
       "      <th>sex</th>\n",
       "      <th>orientation</th>\n",
       "      <th>diet</th>\n",
       "      <th>drinks</th>\n",
       "    </tr>\n",
       "  </thead>\n",
       "  <tbody>\n",
       "    <tr>\n",
       "      <th>59327</th>\n",
       "      <td>20</td>\n",
       "      <td>single</td>\n",
       "      <td>m</td>\n",
       "      <td>straight</td>\n",
       "      <td>NaN</td>\n",
       "      <td>socially</td>\n",
       "    </tr>\n",
       "    <tr>\n",
       "      <th>39067</th>\n",
       "      <td>21</td>\n",
       "      <td>single</td>\n",
       "      <td>m</td>\n",
       "      <td>straight</td>\n",
       "      <td>mostly anything</td>\n",
       "      <td>not at all</td>\n",
       "    </tr>\n",
       "    <tr>\n",
       "      <th>39067</th>\n",
       "      <td>21</td>\n",
       "      <td>single</td>\n",
       "      <td>m</td>\n",
       "      <td>straight</td>\n",
       "      <td>mostly anything</td>\n",
       "      <td>not at all</td>\n",
       "    </tr>\n",
       "    <tr>\n",
       "      <th>22984</th>\n",
       "      <td>24</td>\n",
       "      <td>single</td>\n",
       "      <td>m</td>\n",
       "      <td>straight</td>\n",
       "      <td>NaN</td>\n",
       "      <td>socially</td>\n",
       "    </tr>\n",
       "    <tr>\n",
       "      <th>2763</th>\n",
       "      <td>24</td>\n",
       "      <td>single</td>\n",
       "      <td>m</td>\n",
       "      <td>straight</td>\n",
       "      <td>NaN</td>\n",
       "      <td>rarely</td>\n",
       "    </tr>\n",
       "    <tr>\n",
       "      <th>3750</th>\n",
       "      <td>25</td>\n",
       "      <td>single</td>\n",
       "      <td>m</td>\n",
       "      <td>straight</td>\n",
       "      <td>NaN</td>\n",
       "      <td>socially</td>\n",
       "    </tr>\n",
       "    <tr>\n",
       "      <th>8029</th>\n",
       "      <td>28</td>\n",
       "      <td>single</td>\n",
       "      <td>m</td>\n",
       "      <td>gay</td>\n",
       "      <td>NaN</td>\n",
       "      <td>socially</td>\n",
       "    </tr>\n",
       "    <tr>\n",
       "      <th>55553</th>\n",
       "      <td>29</td>\n",
       "      <td>single</td>\n",
       "      <td>m</td>\n",
       "      <td>straight</td>\n",
       "      <td>NaN</td>\n",
       "      <td>socially</td>\n",
       "    </tr>\n",
       "    <tr>\n",
       "      <th>16724</th>\n",
       "      <td>29</td>\n",
       "      <td>single</td>\n",
       "      <td>m</td>\n",
       "      <td>straight</td>\n",
       "      <td>mostly anything</td>\n",
       "      <td>socially</td>\n",
       "    </tr>\n",
       "    <tr>\n",
       "      <th>56410</th>\n",
       "      <td>29</td>\n",
       "      <td>single</td>\n",
       "      <td>m</td>\n",
       "      <td>straight</td>\n",
       "      <td>mostly anything</td>\n",
       "      <td>often</td>\n",
       "    </tr>\n",
       "    <tr>\n",
       "      <th>25583</th>\n",
       "      <td>29</td>\n",
       "      <td>single</td>\n",
       "      <td>m</td>\n",
       "      <td>straight</td>\n",
       "      <td>NaN</td>\n",
       "      <td>socially</td>\n",
       "    </tr>\n",
       "    <tr>\n",
       "      <th>30984</th>\n",
       "      <td>29</td>\n",
       "      <td>seeing someone</td>\n",
       "      <td>m</td>\n",
       "      <td>gay</td>\n",
       "      <td>NaN</td>\n",
       "      <td>not at all</td>\n",
       "    </tr>\n",
       "    <tr>\n",
       "      <th>23648</th>\n",
       "      <td>33</td>\n",
       "      <td>single</td>\n",
       "      <td>m</td>\n",
       "      <td>straight</td>\n",
       "      <td>NaN</td>\n",
       "      <td>socially</td>\n",
       "    </tr>\n",
       "    <tr>\n",
       "      <th>58354</th>\n",
       "      <td>34</td>\n",
       "      <td>single</td>\n",
       "      <td>m</td>\n",
       "      <td>straight</td>\n",
       "      <td>anything</td>\n",
       "      <td>socially</td>\n",
       "    </tr>\n",
       "    <tr>\n",
       "      <th>31309</th>\n",
       "      <td>37</td>\n",
       "      <td>single</td>\n",
       "      <td>m</td>\n",
       "      <td>straight</td>\n",
       "      <td>anything</td>\n",
       "      <td>rarely</td>\n",
       "    </tr>\n",
       "    <tr>\n",
       "      <th>31309</th>\n",
       "      <td>37</td>\n",
       "      <td>single</td>\n",
       "      <td>m</td>\n",
       "      <td>straight</td>\n",
       "      <td>anything</td>\n",
       "      <td>rarely</td>\n",
       "    </tr>\n",
       "    <tr>\n",
       "      <th>45051</th>\n",
       "      <td>45</td>\n",
       "      <td>single</td>\n",
       "      <td>f</td>\n",
       "      <td>straight</td>\n",
       "      <td>NaN</td>\n",
       "      <td>socially</td>\n",
       "    </tr>\n",
       "    <tr>\n",
       "      <th>4320</th>\n",
       "      <td>45</td>\n",
       "      <td>single</td>\n",
       "      <td>m</td>\n",
       "      <td>straight</td>\n",
       "      <td>NaN</td>\n",
       "      <td>often</td>\n",
       "    </tr>\n",
       "    <tr>\n",
       "      <th>48356</th>\n",
       "      <td>49</td>\n",
       "      <td>single</td>\n",
       "      <td>m</td>\n",
       "      <td>gay</td>\n",
       "      <td>NaN</td>\n",
       "      <td>socially</td>\n",
       "    </tr>\n",
       "    <tr>\n",
       "      <th>9232</th>\n",
       "      <td>57</td>\n",
       "      <td>single</td>\n",
       "      <td>f</td>\n",
       "      <td>straight</td>\n",
       "      <td>mostly anything</td>\n",
       "      <td>socially</td>\n",
       "    </tr>\n",
       "  </tbody>\n",
       "</table>\n",
       "</div>"
      ],
      "text/plain": [
       "       age          status sex orientation             diet      drinks\n",
       "59327   20          single   m    straight              NaN    socially\n",
       "39067   21          single   m    straight  mostly anything  not at all\n",
       "39067   21          single   m    straight  mostly anything  not at all\n",
       "22984   24          single   m    straight              NaN    socially\n",
       "2763    24          single   m    straight              NaN      rarely\n",
       "3750    25          single   m    straight              NaN    socially\n",
       "8029    28          single   m         gay              NaN    socially\n",
       "55553   29          single   m    straight              NaN    socially\n",
       "16724   29          single   m    straight  mostly anything    socially\n",
       "56410   29          single   m    straight  mostly anything       often\n",
       "25583   29          single   m    straight              NaN    socially\n",
       "30984   29  seeing someone   m         gay              NaN  not at all\n",
       "23648   33          single   m    straight              NaN    socially\n",
       "58354   34          single   m    straight         anything    socially\n",
       "31309   37          single   m    straight         anything      rarely\n",
       "31309   37          single   m    straight         anything      rarely\n",
       "45051   45          single   f    straight              NaN    socially\n",
       "4320    45          single   m    straight              NaN       often\n",
       "48356   49          single   m         gay              NaN    socially\n",
       "9232    57          single   f    straight  mostly anything    socially"
      ]
     },
     "execution_count": 6,
     "metadata": {},
     "output_type": "execute_result"
    }
   ],
   "source": [
    "# sampling without replacement\n",
    "df = dating_profiles.sample(n=100)\n",
    "df.sample(n=20, replace=True).sort_values(by=\"age\")\\\n",
    "[[\"age\", \"status\", \"sex\", \"orientation\", \"diet\", \"drinks\"]]"
   ]
  },
  {
   "cell_type": "code",
   "execution_count": 7,
   "id": "ffeecd1e",
   "metadata": {},
   "outputs": [
    {
     "data": {
      "text/plain": [
       "(100, 16)"
      ]
     },
     "execution_count": 7,
     "metadata": {},
     "output_type": "execute_result"
    }
   ],
   "source": [
    "df.shape"
   ]
  },
  {
   "cell_type": "markdown",
   "id": "3f08df7a",
   "metadata": {},
   "source": [
    "## Measures of Central Tendency\n",
    "\n"
   ]
  },
  {
   "cell_type": "markdown",
   "id": "b3c8cc83",
   "metadata": {},
   "source": [
    "### Percentiles\n",
    "\n",
    "A percentile is a value below which there is a given percentage of values in the data."
   ]
  },
  {
   "cell_type": "code",
   "execution_count": 8,
   "id": "ba9fb64a",
   "metadata": {},
   "outputs": [
    {
     "data": {
      "text/plain": [
       "count    59946.000000\n",
       "mean        32.340290\n",
       "std          9.452779\n",
       "min         18.000000\n",
       "25%         26.000000\n",
       "50%         30.000000\n",
       "75%         37.000000\n",
       "max        110.000000\n",
       "Name: age, dtype: float64"
      ]
     },
     "execution_count": 8,
     "metadata": {},
     "output_type": "execute_result"
    }
   ],
   "source": [
    "dating_profiles['age'].describe()"
   ]
  },
  {
   "cell_type": "markdown",
   "id": "1d4e6d72",
   "metadata": {},
   "source": [
    "### Median \n",
    "\n",
    "The median is the 50th percentile"
   ]
  },
  {
   "cell_type": "code",
   "execution_count": 9,
   "id": "fb76a3eb",
   "metadata": {},
   "outputs": [
    {
     "name": "stdout",
     "output_type": "stream",
     "text": [
      "Median (odd number of observations): 5.5\n"
     ]
    },
    {
     "ename": "NameError",
     "evalue": "name 'Series' is not defined",
     "output_type": "error",
     "traceback": [
      "\u001b[0;31m---------------------------------------------------------------------------\u001b[0m",
      "\u001b[0;31mNameError\u001b[0m                                 Traceback (most recent call last)",
      "\u001b[0;32m<ipython-input-9-7026e5c5875d>\u001b[0m in \u001b[0;36m<module>\u001b[0;34m\u001b[0m\n\u001b[1;32m      2\u001b[0m \u001b[0mdata\u001b[0m \u001b[0;34m=\u001b[0m \u001b[0;34m[\u001b[0m\u001b[0;36m0\u001b[0m\u001b[0;34m,\u001b[0m \u001b[0;36m1\u001b[0m\u001b[0;34m,\u001b[0m \u001b[0;36m3\u001b[0m\u001b[0;34m,\u001b[0m \u001b[0;36m2\u001b[0m\u001b[0;34m,\u001b[0m \u001b[0;36m4\u001b[0m\u001b[0;34m,\u001b[0m \u001b[0;36m5\u001b[0m\u001b[0;34m,\u001b[0m \u001b[0;36m7\u001b[0m\u001b[0;34m,\u001b[0m \u001b[0;36m6\u001b[0m\u001b[0;34m,\u001b[0m \u001b[0;36m8\u001b[0m\u001b[0;34m,\u001b[0m \u001b[0;36m9\u001b[0m\u001b[0;34m,\u001b[0m \u001b[0;36m10\u001b[0m\u001b[0;34m,\u001b[0m \u001b[0;36m11\u001b[0m\u001b[0;34m]\u001b[0m\u001b[0;34m\u001b[0m\u001b[0;34m\u001b[0m\u001b[0m\n\u001b[1;32m      3\u001b[0m \u001b[0mprint\u001b[0m\u001b[0;34m(\u001b[0m\u001b[0;34m\"Median (odd number of observations):\"\u001b[0m\u001b[0;34m,\u001b[0m \u001b[0mnp\u001b[0m\u001b[0;34m.\u001b[0m\u001b[0mmedian\u001b[0m\u001b[0;34m(\u001b[0m\u001b[0mdata\u001b[0m\u001b[0;34m)\u001b[0m\u001b[0;34m)\u001b[0m\u001b[0;34m\u001b[0m\u001b[0;34m\u001b[0m\u001b[0m\n\u001b[0;32m----> 4\u001b[0;31m \u001b[0mprint\u001b[0m\u001b[0;34m(\u001b[0m\u001b[0mSeries\u001b[0m\u001b[0;34m(\u001b[0m\u001b[0mdata\u001b[0m\u001b[0;34m)\u001b[0m\u001b[0;34m.\u001b[0m\u001b[0mquantile\u001b[0m\u001b[0;34m(\u001b[0m\u001b[0;36m0.50\u001b[0m\u001b[0;34m)\u001b[0m\u001b[0;34m)\u001b[0m\u001b[0;34m\u001b[0m\u001b[0;34m\u001b[0m\u001b[0m\n\u001b[0m\u001b[1;32m      5\u001b[0m \u001b[0;34m\u001b[0m\u001b[0m\n\u001b[1;32m      6\u001b[0m \u001b[0mdata\u001b[0m \u001b[0;34m=\u001b[0m \u001b[0;34m[\u001b[0m\u001b[0;36m0\u001b[0m\u001b[0;34m,\u001b[0m \u001b[0;36m1\u001b[0m\u001b[0;34m,\u001b[0m \u001b[0;36m3\u001b[0m\u001b[0;34m,\u001b[0m \u001b[0;36m2\u001b[0m\u001b[0;34m,\u001b[0m \u001b[0;36m4\u001b[0m\u001b[0;34m,\u001b[0m \u001b[0;36m5\u001b[0m\u001b[0;34m,\u001b[0m \u001b[0;36m7\u001b[0m\u001b[0;34m,\u001b[0m \u001b[0;36m6\u001b[0m\u001b[0;34m,\u001b[0m \u001b[0;36m8\u001b[0m\u001b[0;34m,\u001b[0m \u001b[0;36m9\u001b[0m\u001b[0;34m,\u001b[0m \u001b[0;36m10\u001b[0m\u001b[0;34m,\u001b[0m \u001b[0;36m11\u001b[0m\u001b[0;34m,\u001b[0m \u001b[0;36m12\u001b[0m\u001b[0;34m]\u001b[0m\u001b[0;34m\u001b[0m\u001b[0;34m\u001b[0m\u001b[0m\n",
      "\u001b[0;31mNameError\u001b[0m: name 'Series' is not defined"
     ]
    }
   ],
   "source": [
    "import numpy as np\n",
    "data = [0, 1, 3, 2, 4, 5, 7, 6, 8, 9, 10, 11]\n",
    "print(\"Median (odd number of observations):\", np.median(data))\n",
    "print(Series(data).quantile(0.50))\n",
    "\n",
    "data = [0, 1, 3, 2, 4, 5, 7, 6, 8, 9, 10, 11, 12]\n",
    "print(\"Median (odd number of observations):\", np.median(data))\n",
    "print(Series(data).quantile(0.50))"
   ]
  },
  {
   "cell_type": "code",
   "execution_count": 244,
   "id": "135cc5b9",
   "metadata": {},
   "outputs": [
    {
     "name": "stdout",
     "output_type": "stream",
     "text": [
      "Data: [ 0  1  2  3  4  5  6  7  8  9 10 11]\n",
      "Length: 12\n",
      "Median: 5.5\n",
      "Median computed by numpy: 5.5\n"
     ]
    }
   ],
   "source": [
    "data = np.arange(12)\n",
    "print(\"Data:\", data)\n",
    "print(\"Length:\", len(data))\n",
    "\n",
    "data = np.sort(data)\n",
    "middle_element = (len(data) + 1)/2\n",
    "\n",
    "if len(data)%2==0:\n",
    "    lower = int(np.floor(middle_element))-1\n",
    "    upper = int(np.ceil(middle_element))-1\n",
    "    median = (data[lower] + data[upper])/2\n",
    "    print(\"Median:\", median)\n",
    "else:\n",
    "    index= int(middle_element)-1\n",
    "    print(\"Median:\", data[index])\n",
    "    \n",
    "print(\"Median computed by numpy:\", np.median(data))"
   ]
  },
  {
   "cell_type": "code",
   "execution_count": 245,
   "id": "99bb1c06",
   "metadata": {},
   "outputs": [
    {
     "name": "stdout",
     "output_type": "stream",
     "text": [
      "Data: [ 0  1  2  3  4  5  6  7  8  9 10 11 12]\n",
      "Length: 13\n",
      "Median: 6\n",
      "Median computed by numpy: 6.0\n"
     ]
    }
   ],
   "source": [
    "data = np.arange(13)\n",
    "print(\"Data:\", data)\n",
    "print(\"Length:\", len(data))\n",
    "\n",
    "data = np.sort(data)\n",
    "middle_element = (len(data) + 1)/2\n",
    "\n",
    "if len(data)%2==0:\n",
    "    lower = int(np.floor(middle_element))-1\n",
    "    upper = int(np.ceil(middle_element))-1\n",
    "    median = (data[lower] + data[upper])/2\n",
    "    print(\"Median:\", median)\n",
    "else:\n",
    "    index= int(middle_element)-1\n",
    "    print(\"Median:\", data[index])\n",
    "    \n",
    "print(\"Median computed by numpy:\", np.median(data))"
   ]
  },
  {
   "cell_type": "markdown",
   "id": "30c7a0c1",
   "metadata": {},
   "source": [
    "### Mean\n",
    "\n",
    "The most common summary statistic is the mean, which is meant to describe the central tendency of the data.\n",
    "\n",
    "The population mean is expressed by-\n",
    "$$ \\mu = \\frac{1}{N} \\sum_{i=1}^{N} x_i$$\n",
    "\n",
    "Similarly, the sample mean is expressed by-\n",
    "$$ \\overline{x} = \\frac{1}{n} \\sum_{i=1}^{n} x_i$$"
   ]
  },
  {
   "cell_type": "code",
   "execution_count": 229,
   "id": "1c7cd75c",
   "metadata": {},
   "outputs": [
    {
     "name": "stdout",
     "output_type": "stream",
     "text": [
      "Data: [ 0  1  2  3  4  5  6  7  8  9 10 11 12]\n",
      "Mean: 6.0\n"
     ]
    }
   ],
   "source": [
    "data = np.arange(13)\n",
    "print(\"Data:\", data)\n",
    "\n",
    "sum_of_observations = np.sum(data)\n",
    "mean = sum_of_observations/len(data)\n",
    "print(\"Mean:\", mean)"
   ]
  },
  {
   "cell_type": "markdown",
   "id": "85f01fb1",
   "metadata": {},
   "source": [
    "## Measures of Spread (Variability)"
   ]
  },
  {
   "cell_type": "markdown",
   "id": "4f1d0560",
   "metadata": {},
   "source": [
    "### Range\n",
    "It is the difference between highest and lowest values of a variable"
   ]
  },
  {
   "cell_type": "code",
   "execution_count": 321,
   "id": "35ee7ade",
   "metadata": {},
   "outputs": [
    {
     "name": "stdout",
     "output_type": "stream",
     "text": [
      "Data: [ 5  6  7  8  9 10 11 12]\n",
      "Range: 7\n"
     ]
    }
   ],
   "source": [
    "data = np.arange(5,13)\n",
    "print(\"Data:\", data)\n",
    "\n",
    "print(\"Range:\", max(data)-min(data))"
   ]
  },
  {
   "cell_type": "markdown",
   "id": "c0878dc2",
   "metadata": {},
   "source": [
    "### Variance\n",
    "\n",
    "The variance is a summary statistic intended to describe the variability or spread of a distribution.\n",
    "\n",
    "$$\\sigma^2 = \\frac{1}{N} \\sum_{i=1}^{N} (x_i - \\mu)^2$$\n",
    "\n",
    "$$S^2 = \\frac{1}{n - 1} \\sum_{i=1}^{n} (x_i - \\overline{x})^2$$\n",
    "\n",
    "The term $x_i - \\overline{x}$ is called the deviation from the mean, so the variance is the mean squared deviation. "
   ]
  },
  {
   "cell_type": "code",
   "execution_count": 223,
   "id": "8f2bd1c9",
   "metadata": {},
   "outputs": [
    {
     "name": "stdout",
     "output_type": "stream",
     "text": [
      "Data: [ 0  1  2  3  4  5  6  7  8  9 10 11 12]\n",
      "Mean deviations: [-6. -5. -4. -3. -2. -1.  0.  1.  2.  3.  4.  5.  6.]\n",
      "Mean deviations squared: [36. 25. 16.  9.  4.  1.  0.  1.  4.  9. 16. 25. 36.]\n",
      "Sum of squared deviations: 182.0\n",
      "Variance: 14.0\n"
     ]
    }
   ],
   "source": [
    "data = np.arange(13)\n",
    "mean = np.mean(data)\n",
    "mean_deviations = data - mean\n",
    "mean_deviations_squared = np.square(mean_deviations)\n",
    "sum_mean_deviations_squared = np.sum(mean_deviations_squared)\n",
    "variance = (1/(len(data))) * sum_mean_deviations_squared\n",
    "\n",
    "print(\"Data:\", data)\n",
    "print(\"Mean deviations:\", mean_deviations)\n",
    "print(\"Mean deviations squared:\", mean_deviations_squared)\n",
    "print(\"Sum of squared deviations:\", sum_mean_deviations_squared)\n",
    "print(\"Variance:\", variance)"
   ]
  },
  {
   "cell_type": "code",
   "execution_count": 219,
   "id": "707cbb64",
   "metadata": {},
   "outputs": [
    {
     "data": {
      "text/plain": [
       "14.0"
      ]
     },
     "execution_count": 219,
     "metadata": {},
     "output_type": "execute_result"
    }
   ],
   "source": [
    "np.var(data)"
   ]
  },
  {
   "cell_type": "markdown",
   "id": "6945318e",
   "metadata": {},
   "source": [
    "### Standard deviation\n",
    "\n",
    "The square root of the variance, S, is the standard deviation.\n",
    "$$\\sigma = \\sqrt{ \\frac{1}{N} \\sum_{i=1}^{N} (x_i - \\mu})^2$$\n",
    "\n",
    "$$S = \\sqrt{ \\frac{1}{n - 1} \\sum_{i=1}^{n} (x_i - \\overline{x}})^2$$"
   ]
  },
  {
   "cell_type": "code",
   "execution_count": 224,
   "id": "b32fc0f4",
   "metadata": {},
   "outputs": [
    {
     "name": "stdout",
     "output_type": "stream",
     "text": [
      "Data: [ 0  1  2  3  4  5  6  7  8  9 10 11 12]\n",
      "Mean deviations: [-6. -5. -4. -3. -2. -1.  0.  1.  2.  3.  4.  5.  6.]\n",
      "Mean deviations squared: [36. 25. 16.  9.  4.  1.  0.  1.  4.  9. 16. 25. 36.]\n",
      "Sum of squared deviations: 182.0\n",
      "Variance: 14.0\n",
      "Standard deviation: 3.7416573867739413\n"
     ]
    }
   ],
   "source": [
    "data = np.arange(13)\n",
    "mean = np.mean(data)\n",
    "mean_deviations = data - mean\n",
    "mean_deviations_squared = np.square(mean_deviations)\n",
    "sum_mean_deviations_squared = np.sum(mean_deviations_squared)\n",
    "variance = (1/(len(data))) * sum_mean_deviations_squared\n",
    "\n",
    "print(\"Data:\", data)\n",
    "print(\"Mean deviations:\", mean_deviations)\n",
    "print(\"Mean deviations squared:\", mean_deviations_squared)\n",
    "print(\"Sum of squared deviations:\", sum_mean_deviations_squared)\n",
    "print(\"Variance:\", variance)\n",
    "print(\"Standard deviation:\", np.sqrt(variance))"
   ]
  },
  {
   "cell_type": "code",
   "execution_count": 225,
   "id": "4b04498f",
   "metadata": {},
   "outputs": [
    {
     "data": {
      "text/plain": [
       "3.7416573867739413"
      ]
     },
     "execution_count": 225,
     "metadata": {},
     "output_type": "execute_result"
    }
   ],
   "source": [
    "np.std(data)"
   ]
  },
  {
   "cell_type": "markdown",
   "id": "4dc78ab2",
   "metadata": {},
   "source": [
    "### Interquartile range\n",
    "\n",
    "The IQR is computed as $IQR = Q3 - Q1$, where Q1 and Q3 are the 25th and 75th percentiles."
   ]
  },
  {
   "cell_type": "code",
   "execution_count": 227,
   "id": "ddb24648",
   "metadata": {},
   "outputs": [
    {
     "name": "stdout",
     "output_type": "stream",
     "text": [
      "Data: [ 0  1  2  3  4  5  6  7  8  9 10 11 12]\n",
      "Inter-Quartile Range: 6.0\n"
     ]
    }
   ],
   "source": [
    "from pandas import Series\n",
    "data = np.arange(13)\n",
    "Q1 = Series(data).quantile(0.25)\n",
    "Q3 = Series(data).quantile(0.75)\n",
    "print(\"Data:\", data)\n",
    "IQR = Q3 - Q1\n",
    "print(\"Inter-Quartile Range:\", IQR)"
   ]
  },
  {
   "cell_type": "markdown",
   "id": "88a64c4d",
   "metadata": {},
   "source": [
    "# Exploratory Data Analysis"
   ]
  },
  {
   "cell_type": "markdown",
   "id": "fbf12ed0",
   "metadata": {},
   "source": [
    "### Sampling from Population"
   ]
  },
  {
   "cell_type": "code",
   "execution_count": 279,
   "id": "8b606290",
   "metadata": {},
   "outputs": [
    {
     "data": {
      "text/html": [
       "<div>\n",
       "<style scoped>\n",
       "    .dataframe tbody tr th:only-of-type {\n",
       "        vertical-align: middle;\n",
       "    }\n",
       "\n",
       "    .dataframe tbody tr th {\n",
       "        vertical-align: top;\n",
       "    }\n",
       "\n",
       "    .dataframe thead th {\n",
       "        text-align: right;\n",
       "    }\n",
       "</style>\n",
       "<table border=\"1\" class=\"dataframe\">\n",
       "  <thead>\n",
       "    <tr style=\"text-align: right;\">\n",
       "      <th></th>\n",
       "      <th>YEAR</th>\n",
       "      <th>QUARTER</th>\n",
       "      <th>MONTH</th>\n",
       "      <th>DAY_OF_MONTH</th>\n",
       "      <th>DAY_OF_WEEK</th>\n",
       "      <th>FL_NUM</th>\n",
       "      <th>ORIGIN</th>\n",
       "      <th>DEST</th>\n",
       "      <th>DEP_TIME</th>\n",
       "      <th>DEP_DELAY</th>\n",
       "      <th>ARR_TIME</th>\n",
       "      <th>ARR_DELAY</th>\n",
       "    </tr>\n",
       "  </thead>\n",
       "  <tbody>\n",
       "    <tr>\n",
       "      <th>0</th>\n",
       "      <td>2016</td>\n",
       "      <td>1</td>\n",
       "      <td>1</td>\n",
       "      <td>1</td>\n",
       "      <td>5</td>\n",
       "      <td>1399</td>\n",
       "      <td>ATL</td>\n",
       "      <td>SEA</td>\n",
       "      <td>1907.0</td>\n",
       "      <td>2.0</td>\n",
       "      <td>2102.0</td>\n",
       "      <td>-41.0</td>\n",
       "    </tr>\n",
       "    <tr>\n",
       "      <th>1</th>\n",
       "      <td>2016</td>\n",
       "      <td>1</td>\n",
       "      <td>1</td>\n",
       "      <td>1</td>\n",
       "      <td>5</td>\n",
       "      <td>1476</td>\n",
       "      <td>DTW</td>\n",
       "      <td>MSP</td>\n",
       "      <td>1344.0</td>\n",
       "      <td>-1.0</td>\n",
       "      <td>1439.0</td>\n",
       "      <td>4.0</td>\n",
       "    </tr>\n",
       "    <tr>\n",
       "      <th>2</th>\n",
       "      <td>2016</td>\n",
       "      <td>1</td>\n",
       "      <td>1</td>\n",
       "      <td>1</td>\n",
       "      <td>5</td>\n",
       "      <td>1597</td>\n",
       "      <td>ATL</td>\n",
       "      <td>SEA</td>\n",
       "      <td>942.0</td>\n",
       "      <td>2.0</td>\n",
       "      <td>1142.0</td>\n",
       "      <td>-33.0</td>\n",
       "    </tr>\n",
       "    <tr>\n",
       "      <th>3</th>\n",
       "      <td>2016</td>\n",
       "      <td>1</td>\n",
       "      <td>1</td>\n",
       "      <td>1</td>\n",
       "      <td>5</td>\n",
       "      <td>1768</td>\n",
       "      <td>SEA</td>\n",
       "      <td>MSP</td>\n",
       "      <td>820.0</td>\n",
       "      <td>1.0</td>\n",
       "      <td>1345.0</td>\n",
       "      <td>10.0</td>\n",
       "    </tr>\n",
       "    <tr>\n",
       "      <th>4</th>\n",
       "      <td>2016</td>\n",
       "      <td>1</td>\n",
       "      <td>1</td>\n",
       "      <td>1</td>\n",
       "      <td>5</td>\n",
       "      <td>1823</td>\n",
       "      <td>SEA</td>\n",
       "      <td>DTW</td>\n",
       "      <td>2256.0</td>\n",
       "      <td>-4.0</td>\n",
       "      <td>615.0</td>\n",
       "      <td>8.0</td>\n",
       "    </tr>\n",
       "  </tbody>\n",
       "</table>\n",
       "</div>"
      ],
      "text/plain": [
       "   YEAR  QUARTER  MONTH  DAY_OF_MONTH  DAY_OF_WEEK  FL_NUM ORIGIN DEST  \\\n",
       "0  2016        1      1             1            5    1399    ATL  SEA   \n",
       "1  2016        1      1             1            5    1476    DTW  MSP   \n",
       "2  2016        1      1             1            5    1597    ATL  SEA   \n",
       "3  2016        1      1             1            5    1768    SEA  MSP   \n",
       "4  2016        1      1             1            5    1823    SEA  DTW   \n",
       "\n",
       "   DEP_TIME  DEP_DELAY  ARR_TIME  ARR_DELAY  \n",
       "0    1907.0        2.0    2102.0      -41.0  \n",
       "1    1344.0       -1.0    1439.0        4.0  \n",
       "2     942.0        2.0    1142.0      -33.0  \n",
       "3     820.0        1.0    1345.0       10.0  \n",
       "4    2256.0       -4.0     615.0        8.0  "
      ]
     },
     "execution_count": 279,
     "metadata": {},
     "output_type": "execute_result"
    }
   ],
   "source": [
    "from matplotlib import pyplot as plt\n",
    "flights = read_csv('course-data/flight-delays.csv')\n",
    "flights.head(5)[['YEAR', 'QUARTER', 'MONTH', 'DAY_OF_MONTH', 'DAY_OF_WEEK', 'FL_NUM', 'ORIGIN',\n",
    "        'DEST', 'DEP_TIME', 'DEP_DELAY', 'ARR_TIME', 'ARR_DELAY']]"
   ]
  },
  {
   "cell_type": "code",
   "execution_count": 277,
   "id": "d2064ac8",
   "metadata": {},
   "outputs": [
    {
     "data": {
      "text/plain": [
       "Index(['YEAR', 'QUARTER', 'MONTH', 'DAY_OF_MONTH', 'DAY_OF_WEEK',\n",
       "       'UNIQUE_CARRIER', 'TAIL_NUM', 'FL_NUM', 'ORIGIN_AIRPORT_ID', 'ORIGIN',\n",
       "       'DEST_AIRPORT_ID', 'DEST', 'CRS_DEP_TIME', 'DEP_TIME', 'DEP_DELAY',\n",
       "       'DEP_DEL15', 'CRS_ARR_TIME', 'ARR_TIME', 'ARR_DELAY', 'ARR_DEL15',\n",
       "       'CANCELLED', 'DIVERTED', 'CRS_ELAPSED_TIME', 'ACTUAL_ELAPSED_TIME',\n",
       "       'DISTANCE'],\n",
       "      dtype='object')"
      ]
     },
     "execution_count": 277,
     "metadata": {},
     "output_type": "execute_result"
    }
   ],
   "source": [
    "flights.columns"
   ]
  },
  {
   "cell_type": "code",
   "execution_count": 162,
   "id": "c9e638aa",
   "metadata": {},
   "outputs": [
    {
     "data": {
      "text/plain": [
       "Text(0.5, 1.0, 'Population')"
      ]
     },
     "execution_count": 162,
     "metadata": {},
     "output_type": "execute_result"
    },
    {
     "data": {
      "image/png": "[encoded data removed]",
      "text/plain": [
       "<Figure size 720x360 with 1 Axes>"
      ]
     },
     "metadata": {
      "filenames": {
       "image/png": "/Users/ankitbit/Documents/Lectures/a-pinch-of-statistics/_build/jupyter_execute/exploratory-data-analysis_44_1.png"
      }
     },
     "output_type": "display_data"
    }
   ],
   "source": [
    "delay_bins = np.arange(-50, 201, 10)\n",
    "flights[['ARR_DELAY']].plot.hist(bins = delay_bins, figsize=(10, 5))\n",
    "plt.title('Population')"
   ]
  },
  {
   "cell_type": "code",
   "execution_count": 161,
   "id": "3706c9a9",
   "metadata": {},
   "outputs": [
    {
     "data": {
      "text/plain": [
       "Text(0.5, 1.0, 'Sample: 1000 randomly drawn observations')"
      ]
     },
     "execution_count": 161,
     "metadata": {},
     "output_type": "execute_result"
    },
    {
     "data": {
      "image/png": "[encoded data removed]",
      "text/plain": [
       "<Figure size 720x360 with 1 Axes>"
      ]
     },
     "metadata": {
      "filenames": {
       "image/png": "/Users/ankitbit/Documents/Lectures/a-pinch-of-statistics/_build/jupyter_execute/exploratory-data-analysis_45_1.png"
      }
     },
     "output_type": "display_data"
    }
   ],
   "source": [
    "delta = flights.sample(1000)\n",
    "delay_bins = np.arange(-50, 201, 10)\n",
    "delta[['ARR_DELAY']].plot.hist(bins = delay_bins, \n",
    "                               color = 'skyblue',\n",
    "                               figsize=(10, 5))\n",
    "plt.title('Sample: 1000 randomly drawn observations')"
   ]
  },
  {
   "cell_type": "markdown",
   "id": "e01b5ab0",
   "metadata": {},
   "source": [
    "## Exploring the Dating Profiles"
   ]
  },
  {
   "cell_type": "code",
   "execution_count": 330,
   "id": "cb3f99c7",
   "metadata": {},
   "outputs": [
    {
     "data": {
      "text/html": [
       "<div>\n",
       "<style scoped>\n",
       "    .dataframe tbody tr th:only-of-type {\n",
       "        vertical-align: middle;\n",
       "    }\n",
       "\n",
       "    .dataframe tbody tr th {\n",
       "        vertical-align: top;\n",
       "    }\n",
       "\n",
       "    .dataframe thead th {\n",
       "        text-align: right;\n",
       "    }\n",
       "</style>\n",
       "<table border=\"1\" class=\"dataframe\">\n",
       "  <thead>\n",
       "    <tr style=\"text-align: right;\">\n",
       "      <th></th>\n",
       "      <th>age</th>\n",
       "      <th>status</th>\n",
       "      <th>sex</th>\n",
       "      <th>orientation</th>\n",
       "      <th>body_type</th>\n",
       "    </tr>\n",
       "  </thead>\n",
       "  <tbody>\n",
       "    <tr>\n",
       "      <th>0</th>\n",
       "      <td>22</td>\n",
       "      <td>single</td>\n",
       "      <td>m</td>\n",
       "      <td>straight</td>\n",
       "      <td>a little extra</td>\n",
       "    </tr>\n",
       "    <tr>\n",
       "      <th>1</th>\n",
       "      <td>35</td>\n",
       "      <td>single</td>\n",
       "      <td>m</td>\n",
       "      <td>straight</td>\n",
       "      <td>average</td>\n",
       "    </tr>\n",
       "    <tr>\n",
       "      <th>2</th>\n",
       "      <td>38</td>\n",
       "      <td>available</td>\n",
       "      <td>m</td>\n",
       "      <td>straight</td>\n",
       "      <td>thin</td>\n",
       "    </tr>\n",
       "    <tr>\n",
       "      <th>3</th>\n",
       "      <td>23</td>\n",
       "      <td>single</td>\n",
       "      <td>m</td>\n",
       "      <td>straight</td>\n",
       "      <td>thin</td>\n",
       "    </tr>\n",
       "  </tbody>\n",
       "</table>\n",
       "</div>"
      ],
      "text/plain": [
       "   age     status sex orientation       body_type\n",
       "0   22     single   m    straight  a little extra\n",
       "1   35     single   m    straight         average\n",
       "2   38  available   m    straight            thin\n",
       "3   23     single   m    straight            thin"
      ]
     },
     "execution_count": 330,
     "metadata": {},
     "output_type": "execute_result"
    }
   ],
   "source": [
    "from pandas import read_csv\n",
    "dating_profiles = read_csv(\"course-data/dating_profiles.csv\")\n",
    "\n",
    "preferred_columns = ['age', 'status', 'sex', 'orientation', 'body_type', \n",
    "                     'diet', 'drinks', 'drugs', 'education', 'ethnicity', \n",
    "                     'height', 'income', 'job', 'last_online', 'location', 'sign']\n",
    "\n",
    "dating_profiles = dating_profiles[preferred_columns]\n",
    "dating_profiles[['age', 'status', 'sex', 'orientation', 'body_type']].head(4)"
   ]
  },
  {
   "cell_type": "code",
   "execution_count": 331,
   "id": "695af14f",
   "metadata": {},
   "outputs": [
    {
     "data": {
      "text/plain": [
       "(59946, 16)"
      ]
     },
     "execution_count": 331,
     "metadata": {},
     "output_type": "execute_result"
    }
   ],
   "source": [
    "dating_profiles.shape"
   ]
  },
  {
   "cell_type": "code",
   "execution_count": 371,
   "id": "0a8946b4",
   "metadata": {},
   "outputs": [
    {
     "data": {
      "text/plain": [
       "0        22.0\n",
       "1        35.0\n",
       "2        38.0\n",
       "3        23.0\n",
       "4        29.0\n",
       "         ... \n",
       "59941    59.0\n",
       "59942    24.0\n",
       "59943    42.0\n",
       "59944    27.0\n",
       "59945    39.0\n",
       "Name: age, Length: 59946, dtype: float64"
      ]
     },
     "execution_count": 371,
     "metadata": {},
     "output_type": "execute_result"
    }
   ],
   "source": [
    "dating_profiles['age']"
   ]
  },
  {
   "cell_type": "code",
   "execution_count": 80,
   "id": "2ab3849e",
   "metadata": {},
   "outputs": [
    {
     "name": "stdout",
     "output_type": "stream",
     "text": [
      "Mean: 32.3402895939679\n",
      "Median: 30.0\n",
      "Max: 110\n",
      "Min: 18\n"
     ]
    }
   ],
   "source": [
    "print(\"Mean:\", dating_profiles[\"age\"].mean())\n",
    "print(\"Median:\", dating_profiles[\"age\"].median())\n",
    "print(\"Max:\", dating_profiles[\"age\"].max())\n",
    "print(\"Min:\", dating_profiles[\"age\"].min())"
   ]
  },
  {
   "cell_type": "code",
   "execution_count": 17,
   "id": "bccf6ef3",
   "metadata": {},
   "outputs": [
    {
     "data": {
      "text/html": [
       "<div>\n",
       "<style scoped>\n",
       "    .dataframe tbody tr th:only-of-type {\n",
       "        vertical-align: middle;\n",
       "    }\n",
       "\n",
       "    .dataframe tbody tr th {\n",
       "        vertical-align: top;\n",
       "    }\n",
       "\n",
       "    .dataframe thead th {\n",
       "        text-align: right;\n",
       "    }\n",
       "</style>\n",
       "<table border=\"1\" class=\"dataframe\">\n",
       "  <thead>\n",
       "    <tr style=\"text-align: right;\">\n",
       "      <th></th>\n",
       "      <th>age</th>\n",
       "      <th>height</th>\n",
       "      <th>income</th>\n",
       "    </tr>\n",
       "  </thead>\n",
       "  <tbody>\n",
       "    <tr>\n",
       "      <th>count</th>\n",
       "      <td>59946.000000</td>\n",
       "      <td>59943.000000</td>\n",
       "      <td>59946.000000</td>\n",
       "    </tr>\n",
       "    <tr>\n",
       "      <th>mean</th>\n",
       "      <td>32.340290</td>\n",
       "      <td>68.295281</td>\n",
       "      <td>20033.222534</td>\n",
       "    </tr>\n",
       "    <tr>\n",
       "      <th>std</th>\n",
       "      <td>9.452779</td>\n",
       "      <td>3.994803</td>\n",
       "      <td>97346.192104</td>\n",
       "    </tr>\n",
       "    <tr>\n",
       "      <th>min</th>\n",
       "      <td>18.000000</td>\n",
       "      <td>1.000000</td>\n",
       "      <td>-1.000000</td>\n",
       "    </tr>\n",
       "    <tr>\n",
       "      <th>25%</th>\n",
       "      <td>26.000000</td>\n",
       "      <td>66.000000</td>\n",
       "      <td>-1.000000</td>\n",
       "    </tr>\n",
       "    <tr>\n",
       "      <th>50%</th>\n",
       "      <td>30.000000</td>\n",
       "      <td>68.000000</td>\n",
       "      <td>-1.000000</td>\n",
       "    </tr>\n",
       "    <tr>\n",
       "      <th>75%</th>\n",
       "      <td>37.000000</td>\n",
       "      <td>71.000000</td>\n",
       "      <td>-1.000000</td>\n",
       "    </tr>\n",
       "    <tr>\n",
       "      <th>max</th>\n",
       "      <td>110.000000</td>\n",
       "      <td>95.000000</td>\n",
       "      <td>1000000.000000</td>\n",
       "    </tr>\n",
       "  </tbody>\n",
       "</table>\n",
       "</div>"
      ],
      "text/plain": [
       "                age        height          income\n",
       "count  59946.000000  59943.000000    59946.000000\n",
       "mean      32.340290     68.295281    20033.222534\n",
       "std        9.452779      3.994803    97346.192104\n",
       "min       18.000000      1.000000       -1.000000\n",
       "25%       26.000000     66.000000       -1.000000\n",
       "50%       30.000000     68.000000       -1.000000\n",
       "75%       37.000000     71.000000       -1.000000\n",
       "max      110.000000     95.000000  1000000.000000"
      ]
     },
     "execution_count": 17,
     "metadata": {},
     "output_type": "execute_result"
    }
   ],
   "source": [
    "dating_profiles.describe()"
   ]
  },
  {
   "cell_type": "code",
   "execution_count": 18,
   "id": "caadf299",
   "metadata": {},
   "outputs": [
    {
     "data": {
      "text/plain": [
       "0.05    21.0\n",
       "0.25    26.0\n",
       "0.50    30.0\n",
       "0.75    37.0\n",
       "0.95    52.0\n",
       "Name: age, dtype: float64"
      ]
     },
     "execution_count": 18,
     "metadata": {},
     "output_type": "execute_result"
    }
   ],
   "source": [
    "dating_profiles[\"age\"].quantile([0.05, 0.25, 0.5, 0.75, 0.95])"
   ]
  },
  {
   "cell_type": "code",
   "execution_count": 193,
   "id": "6d727d1b",
   "metadata": {},
   "outputs": [
    {
     "name": "stdout",
     "output_type": "stream",
     "text": [
      "Range of age of individuals present on dating app: 92\n"
     ]
    }
   ],
   "source": [
    "print('Range of age of individuals present on dating app:', \n",
    "      max(dating_profiles[\"age\"])- min(dating_profiles[\"age\"]))"
   ]
  },
  {
   "cell_type": "code",
   "execution_count": 194,
   "id": "073b707f",
   "metadata": {},
   "outputs": [],
   "source": [
    "# perform the analysis of range of income of individuals"
   ]
  },
  {
   "cell_type": "code",
   "execution_count": null,
   "id": "9e931a64",
   "metadata": {},
   "outputs": [],
   "source": []
  },
  {
   "cell_type": "code",
   "execution_count": 195,
   "id": "ce6436ee",
   "metadata": {},
   "outputs": [
    {
     "data": {
      "text/plain": [
       "11.0"
      ]
     },
     "execution_count": 195,
     "metadata": {},
     "output_type": "execute_result"
    }
   ],
   "source": [
    "Q1 = dating_profiles[\"age\"].quantile(0.25)\n",
    "Q3 = dating_profiles[\"age\"].quantile(0.75)\n",
    "IQR = Q3 - Q1\n",
    "IQR"
   ]
  },
  {
   "cell_type": "code",
   "execution_count": null,
   "id": "0b98c71e",
   "metadata": {},
   "outputs": [],
   "source": []
  },
  {
   "cell_type": "markdown",
   "id": "fd1c82e8",
   "metadata": {},
   "source": [
    "## Single Variables"
   ]
  },
  {
   "cell_type": "code",
   "execution_count": 322,
   "id": "6a93add7",
   "metadata": {},
   "outputs": [
    {
     "data": {
      "text/plain": [
       "<AxesSubplot:>"
      ]
     },
     "execution_count": 322,
     "metadata": {},
     "output_type": "execute_result"
    },
    {
     "data": {
      "image/png": "[encoded data removed]",
      "text/plain": [
       "<Figure size 720x360 with 1 Axes>"
      ]
     },
     "metadata": {
      "filenames": {
       "image/png": "/Users/ankitbit/Documents/Lectures/a-pinch-of-statistics/_build/jupyter_execute/exploratory-data-analysis_59_1.png"
      }
     },
     "output_type": "display_data"
    }
   ],
   "source": [
    "import seaborn as sns\n",
    "sns.set(\n",
    "        style=\"darkgrid\",\n",
    "        rc={\"figure.figsize\": (10, 5)})\n",
    "sns.boxplot(data=dating_profiles[\"age\"], palette=\"viridis\")"
   ]
  },
  {
   "cell_type": "code",
   "execution_count": 79,
   "id": "fb8eab80",
   "metadata": {},
   "outputs": [
    {
     "data": {
      "text/plain": [
       "<AxesSubplot:xlabel='age', ylabel='Count'>"
      ]
     },
     "execution_count": 79,
     "metadata": {},
     "output_type": "execute_result"
    },
    {
     "data": {
      "image/png": "[encoded data removed]",
      "text/plain": [
       "<Figure size 720x360 with 1 Axes>"
      ]
     },
     "metadata": {
      "filenames": {
       "image/png": "/Users/ankitbit/Documents/Lectures/a-pinch-of-statistics/_build/jupyter_execute/exploratory-data-analysis_60_1.png"
      }
     },
     "output_type": "display_data"
    }
   ],
   "source": [
    "sns.histplot(data=dating_profiles[\"age\"], \n",
    "             bins=range(1, 75),\n",
    "            )"
   ]
  },
  {
   "cell_type": "code",
   "execution_count": 81,
   "id": "6a2c190c",
   "metadata": {},
   "outputs": [
    {
     "data": {
      "text/plain": [
       "Index(['age', 'status', 'sex', 'orientation', 'body_type', 'diet', 'drinks',\n",
       "       'drugs', 'education', 'ethnicity', 'height', 'income', 'job',\n",
       "       'last_online', 'location', 'sign'],\n",
       "      dtype='object')"
      ]
     },
     "execution_count": 81,
     "metadata": {},
     "output_type": "execute_result"
    }
   ],
   "source": [
    "dating_profiles.columns"
   ]
  },
  {
   "cell_type": "code",
   "execution_count": 89,
   "id": "0acf3d10",
   "metadata": {},
   "outputs": [
    {
     "data": {
      "text/plain": [
       "array(['single', 'available', 'seeing someone', 'married', 'unknown'],\n",
       "      dtype=object)"
      ]
     },
     "execution_count": 89,
     "metadata": {},
     "output_type": "execute_result"
    }
   ],
   "source": [
    "dating_profiles[\"status\"].unique()"
   ]
  },
  {
   "cell_type": "code",
   "execution_count": 114,
   "id": "6309de5d",
   "metadata": {},
   "outputs": [
    {
     "data": {
      "text/plain": [
       "<AxesSubplot:xlabel='count', ylabel='status'>"
      ]
     },
     "execution_count": 114,
     "metadata": {},
     "output_type": "execute_result"
    },
    {
     "data": {
      "image/png": "[encoded data removed]",
      "text/plain": [
       "<Figure size 720x360 with 1 Axes>"
      ]
     },
     "metadata": {
      "filenames": {
       "image/png": "/Users/ankitbit/Documents/Lectures/a-pinch-of-statistics/_build/jupyter_execute/exploratory-data-analysis_63_1.png"
      }
     },
     "output_type": "display_data"
    }
   ],
   "source": [
    "sns.countplot(data= dating_profiles, \n",
    "              y= 'status',\n",
    "              palette=\"summer\",\n",
    "             )"
   ]
  },
  {
   "cell_type": "code",
   "execution_count": 117,
   "id": "e2f8ef3d",
   "metadata": {},
   "outputs": [
    {
     "data": {
      "text/plain": [
       "<AxesSubplot:xlabel='count', ylabel='status'>"
      ]
     },
     "execution_count": 117,
     "metadata": {},
     "output_type": "execute_result"
    },
    {
     "data": {
      "image/png": "[encoded data removed]",
      "text/plain": [
       "<Figure size 720x360 with 1 Axes>"
      ]
     },
     "metadata": {
      "filenames": {
       "image/png": "/Users/ankitbit/Documents/Lectures/a-pinch-of-statistics/_build/jupyter_execute/exploratory-data-analysis_64_1.png"
      }
     },
     "output_type": "display_data"
    }
   ],
   "source": [
    "sns.countplot(data= dating_profiles, \n",
    "              y= 'status',\n",
    "              palette=\"summer\",\n",
    "              hue= 'sex'\n",
    "             )"
   ]
  },
  {
   "cell_type": "markdown",
   "id": "3b11a2e7",
   "metadata": {},
   "source": [
    "## Multiple Variables"
   ]
  },
  {
   "cell_type": "markdown",
   "id": "09509d1d",
   "metadata": {},
   "source": [
    "### Exploring two categorical variables"
   ]
  },
  {
   "cell_type": "code",
   "execution_count": 280,
   "id": "e444b33d",
   "metadata": {},
   "outputs": [
    {
     "data": {
      "text/html": [
       "<div>\n",
       "<style scoped>\n",
       "    .dataframe tbody tr th:only-of-type {\n",
       "        vertical-align: middle;\n",
       "    }\n",
       "\n",
       "    .dataframe tbody tr th {\n",
       "        vertical-align: top;\n",
       "    }\n",
       "\n",
       "    .dataframe thead th {\n",
       "        text-align: right;\n",
       "    }\n",
       "</style>\n",
       "<table border=\"1\" class=\"dataframe\">\n",
       "  <thead>\n",
       "    <tr style=\"text-align: right;\">\n",
       "      <th></th>\n",
       "      <th>model</th>\n",
       "      <th>year</th>\n",
       "      <th>price</th>\n",
       "      <th>transmission</th>\n",
       "      <th>mileage</th>\n",
       "      <th>fuelType</th>\n",
       "      <th>tax</th>\n",
       "      <th>mpg</th>\n",
       "      <th>engineSize</th>\n",
       "    </tr>\n",
       "  </thead>\n",
       "  <tbody>\n",
       "    <tr>\n",
       "      <th>0</th>\n",
       "      <td>A1</td>\n",
       "      <td>2017</td>\n",
       "      <td>12500</td>\n",
       "      <td>Manual</td>\n",
       "      <td>15735</td>\n",
       "      <td>Petrol</td>\n",
       "      <td>150</td>\n",
       "      <td>55.4</td>\n",
       "      <td>1.4</td>\n",
       "    </tr>\n",
       "    <tr>\n",
       "      <th>1</th>\n",
       "      <td>A6</td>\n",
       "      <td>2016</td>\n",
       "      <td>16500</td>\n",
       "      <td>Automatic</td>\n",
       "      <td>36203</td>\n",
       "      <td>Diesel</td>\n",
       "      <td>20</td>\n",
       "      <td>64.2</td>\n",
       "      <td>2.0</td>\n",
       "    </tr>\n",
       "    <tr>\n",
       "      <th>2</th>\n",
       "      <td>A1</td>\n",
       "      <td>2016</td>\n",
       "      <td>11000</td>\n",
       "      <td>Manual</td>\n",
       "      <td>29946</td>\n",
       "      <td>Petrol</td>\n",
       "      <td>30</td>\n",
       "      <td>55.4</td>\n",
       "      <td>1.4</td>\n",
       "    </tr>\n",
       "    <tr>\n",
       "      <th>3</th>\n",
       "      <td>A4</td>\n",
       "      <td>2017</td>\n",
       "      <td>16800</td>\n",
       "      <td>Automatic</td>\n",
       "      <td>25952</td>\n",
       "      <td>Diesel</td>\n",
       "      <td>145</td>\n",
       "      <td>67.3</td>\n",
       "      <td>2.0</td>\n",
       "    </tr>\n",
       "    <tr>\n",
       "      <th>4</th>\n",
       "      <td>A3</td>\n",
       "      <td>2019</td>\n",
       "      <td>17300</td>\n",
       "      <td>Manual</td>\n",
       "      <td>1998</td>\n",
       "      <td>Petrol</td>\n",
       "      <td>145</td>\n",
       "      <td>49.6</td>\n",
       "      <td>1.0</td>\n",
       "    </tr>\n",
       "  </tbody>\n",
       "</table>\n",
       "</div>"
      ],
      "text/plain": [
       "  model  year  price transmission  mileage fuelType  tax   mpg  engineSize\n",
       "0    A1  2017  12500       Manual    15735   Petrol  150  55.4         1.4\n",
       "1    A6  2016  16500    Automatic    36203   Diesel   20  64.2         2.0\n",
       "2    A1  2016  11000       Manual    29946   Petrol   30  55.4         1.4\n",
       "3    A4  2017  16800    Automatic    25952   Diesel  145  67.3         2.0\n",
       "4    A3  2019  17300       Manual     1998   Petrol  145  49.6         1.0"
      ]
     },
     "execution_count": 280,
     "metadata": {},
     "output_type": "execute_result"
    }
   ],
   "source": [
    "cars = read_csv('course-data/audi.csv')\n",
    "cars.head()"
   ]
  },
  {
   "cell_type": "code",
   "execution_count": 288,
   "id": "d91e60a8",
   "metadata": {},
   "outputs": [
    {
     "data": {
      "text/plain": [
       "<seaborn.axisgrid.FacetGrid at 0x146ad5fd0>"
      ]
     },
     "execution_count": 288,
     "metadata": {},
     "output_type": "execute_result"
    },
    {
     "data": {
      "image/png": "[encoded data removed]",
      "text/plain": [
       "<Figure size 431.6x360 with 1 Axes>"
      ]
     },
     "metadata": {
      "filenames": {
       "image/png": "/Users/ankitbit/Documents/Lectures/a-pinch-of-statistics/_build/jupyter_execute/exploratory-data-analysis_68_1.png"
      }
     },
     "output_type": "display_data"
    }
   ],
   "source": [
    "sns.set(style=\"darkgrid\",\n",
    "        rc={\"figure.figsize\": (10, 8)})\n",
    "sns.catplot(data=cars, x=\"transmission\", y=\"engineSize\", hue=\"fuelType\", kind=\"bar\")"
   ]
  },
  {
   "cell_type": "code",
   "execution_count": null,
   "id": "c3041804",
   "metadata": {},
   "outputs": [],
   "source": []
  },
  {
   "cell_type": "code",
   "execution_count": 312,
   "id": "9dd13bea",
   "metadata": {},
   "outputs": [
    {
     "data": {
      "text/html": [
       "<div>\n",
       "<style scoped>\n",
       "    .dataframe tbody tr th:only-of-type {\n",
       "        vertical-align: middle;\n",
       "    }\n",
       "\n",
       "    .dataframe tbody tr th {\n",
       "        vertical-align: top;\n",
       "    }\n",
       "\n",
       "    .dataframe thead tr th {\n",
       "        text-align: left;\n",
       "    }\n",
       "\n",
       "    .dataframe thead tr:last-of-type th {\n",
       "        text-align: right;\n",
       "    }\n",
       "</style>\n",
       "<table border=\"1\" class=\"dataframe\">\n",
       "  <thead>\n",
       "    <tr>\n",
       "      <th></th>\n",
       "      <th colspan=\"20\" halign=\"left\">fuelType</th>\n",
       "    </tr>\n",
       "    <tr>\n",
       "      <th>engineSize</th>\n",
       "      <th>0.0</th>\n",
       "      <th>1.0</th>\n",
       "      <th>1.2</th>\n",
       "      <th>1.4</th>\n",
       "      <th>1.5</th>\n",
       "      <th>1.6</th>\n",
       "      <th>1.8</th>\n",
       "      <th>1.9</th>\n",
       "      <th>2.0</th>\n",
       "      <th>2.5</th>\n",
       "      <th>2.7</th>\n",
       "      <th>2.9</th>\n",
       "      <th>3.0</th>\n",
       "      <th>3.2</th>\n",
       "      <th>4.0</th>\n",
       "      <th>4.1</th>\n",
       "      <th>4.2</th>\n",
       "      <th>5.2</th>\n",
       "      <th>6.3</th>\n",
       "      <th>All</th>\n",
       "    </tr>\n",
       "    <tr>\n",
       "      <th>transmission</th>\n",
       "      <th></th>\n",
       "      <th></th>\n",
       "      <th></th>\n",
       "      <th></th>\n",
       "      <th></th>\n",
       "      <th></th>\n",
       "      <th></th>\n",
       "      <th></th>\n",
       "      <th></th>\n",
       "      <th></th>\n",
       "      <th></th>\n",
       "      <th></th>\n",
       "      <th></th>\n",
       "      <th></th>\n",
       "      <th></th>\n",
       "      <th></th>\n",
       "      <th></th>\n",
       "      <th></th>\n",
       "      <th></th>\n",
       "      <th></th>\n",
       "    </tr>\n",
       "  </thead>\n",
       "  <tbody>\n",
       "    <tr>\n",
       "      <th>Automatic</th>\n",
       "      <td>39.0</td>\n",
       "      <td>32.0</td>\n",
       "      <td>2.0</td>\n",
       "      <td>138.0</td>\n",
       "      <td>144.0</td>\n",
       "      <td>96.0</td>\n",
       "      <td>22.0</td>\n",
       "      <td>1.0</td>\n",
       "      <td>1532.0</td>\n",
       "      <td>21.0</td>\n",
       "      <td>2.0</td>\n",
       "      <td>25.0</td>\n",
       "      <td>546.0</td>\n",
       "      <td>3.0</td>\n",
       "      <td>76.0</td>\n",
       "      <td>1.0</td>\n",
       "      <td>13.0</td>\n",
       "      <td>14.0</td>\n",
       "      <td>1.0</td>\n",
       "      <td>2708</td>\n",
       "    </tr>\n",
       "    <tr>\n",
       "      <th>Manual</th>\n",
       "      <td>18.0</td>\n",
       "      <td>456.0</td>\n",
       "      <td>29.0</td>\n",
       "      <td>1059.0</td>\n",
       "      <td>307.0</td>\n",
       "      <td>720.0</td>\n",
       "      <td>81.0</td>\n",
       "      <td>3.0</td>\n",
       "      <td>1684.0</td>\n",
       "      <td>2.0</td>\n",
       "      <td>NaN</td>\n",
       "      <td>NaN</td>\n",
       "      <td>4.0</td>\n",
       "      <td>2.0</td>\n",
       "      <td>NaN</td>\n",
       "      <td>NaN</td>\n",
       "      <td>4.0</td>\n",
       "      <td>NaN</td>\n",
       "      <td>NaN</td>\n",
       "      <td>4369</td>\n",
       "    </tr>\n",
       "  </tbody>\n",
       "</table>\n",
       "</div>"
      ],
      "text/plain": [
       "             fuelType                                                        \\\n",
       "engineSize        0.0    1.0   1.2     1.4    1.5    1.6   1.8  1.9     2.0   \n",
       "transmission                                                                  \n",
       "Automatic        39.0   32.0   2.0   138.0  144.0   96.0  22.0  1.0  1532.0   \n",
       "Manual           18.0  456.0  29.0  1059.0  307.0  720.0  81.0  3.0  1684.0   \n",
       "\n",
       "                                                                             \n",
       "engineSize     2.5  2.7   2.9    3.0  3.2   4.0  4.1   4.2   5.2  6.3   All  \n",
       "transmission                                                                 \n",
       "Automatic     21.0  2.0  25.0  546.0  3.0  76.0  1.0  13.0  14.0  1.0  2708  \n",
       "Manual         2.0  NaN   NaN    4.0  2.0   NaN  NaN   4.0   NaN  NaN  4369  "
      ]
     },
     "execution_count": 312,
     "metadata": {},
     "output_type": "execute_result"
    }
   ],
   "source": [
    "crosstab = cars[[\"transmission\", \"fuelType\", \"engineSize\"]]\\\n",
    ".pivot_table(index='transmission', columns='engineSize',\n",
    "                            aggfunc=lambda x: len(x), margins=True)\n",
    "\n",
    "df = crosstab.loc['Automatic':'Manual',:].copy()\n",
    "df"
   ]
  },
  {
   "cell_type": "code",
   "execution_count": 308,
   "id": "0cebc9f6",
   "metadata": {},
   "outputs": [
    {
     "data": {
      "text/plain": [
       "transmission\n",
       "Automatic    2708\n",
       "Manual       4369\n",
       "Name: All, dtype: int64"
      ]
     },
     "execution_count": 308,
     "metadata": {},
     "output_type": "execute_result"
    }
   ],
   "source": [
    "df['fuelType']['All']"
   ]
  },
  {
   "cell_type": "code",
   "execution_count": 311,
   "id": "473daf58",
   "metadata": {},
   "outputs": [
    {
     "data": {
      "text/html": [
       "<div>\n",
       "<style scoped>\n",
       "    .dataframe tbody tr th:only-of-type {\n",
       "        vertical-align: middle;\n",
       "    }\n",
       "\n",
       "    .dataframe tbody tr th {\n",
       "        vertical-align: top;\n",
       "    }\n",
       "\n",
       "    .dataframe thead tr th {\n",
       "        text-align: left;\n",
       "    }\n",
       "\n",
       "    .dataframe thead tr:last-of-type th {\n",
       "        text-align: right;\n",
       "    }\n",
       "</style>\n",
       "<table border=\"1\" class=\"dataframe\">\n",
       "  <thead>\n",
       "    <tr>\n",
       "      <th></th>\n",
       "      <th colspan=\"20\" halign=\"left\">fuelType</th>\n",
       "    </tr>\n",
       "    <tr>\n",
       "      <th>engineSize</th>\n",
       "      <th>0.0</th>\n",
       "      <th>1.0</th>\n",
       "      <th>1.2</th>\n",
       "      <th>1.4</th>\n",
       "      <th>1.5</th>\n",
       "      <th>1.6</th>\n",
       "      <th>1.8</th>\n",
       "      <th>1.9</th>\n",
       "      <th>2.0</th>\n",
       "      <th>2.5</th>\n",
       "      <th>2.7</th>\n",
       "      <th>2.9</th>\n",
       "      <th>3.0</th>\n",
       "      <th>3.2</th>\n",
       "      <th>4.0</th>\n",
       "      <th>4.1</th>\n",
       "      <th>4.2</th>\n",
       "      <th>5.2</th>\n",
       "      <th>6.3</th>\n",
       "      <th>All</th>\n",
       "    </tr>\n",
       "    <tr>\n",
       "      <th>transmission</th>\n",
       "      <th></th>\n",
       "      <th></th>\n",
       "      <th></th>\n",
       "      <th></th>\n",
       "      <th></th>\n",
       "      <th></th>\n",
       "      <th></th>\n",
       "      <th></th>\n",
       "      <th></th>\n",
       "      <th></th>\n",
       "      <th></th>\n",
       "      <th></th>\n",
       "      <th></th>\n",
       "      <th></th>\n",
       "      <th></th>\n",
       "      <th></th>\n",
       "      <th></th>\n",
       "      <th></th>\n",
       "      <th></th>\n",
       "      <th></th>\n",
       "    </tr>\n",
       "  </thead>\n",
       "  <tbody>\n",
       "    <tr>\n",
       "      <th>Automatic</th>\n",
       "      <td>39.0</td>\n",
       "      <td>32.0</td>\n",
       "      <td>2.0</td>\n",
       "      <td>138.0</td>\n",
       "      <td>144.0</td>\n",
       "      <td>96.0</td>\n",
       "      <td>22.0</td>\n",
       "      <td>1.0</td>\n",
       "      <td>1532.0</td>\n",
       "      <td>21.0</td>\n",
       "      <td>2.0</td>\n",
       "      <td>25.0</td>\n",
       "      <td>546.0</td>\n",
       "      <td>3.0</td>\n",
       "      <td>76.0</td>\n",
       "      <td>1.0</td>\n",
       "      <td>13.0</td>\n",
       "      <td>14.0</td>\n",
       "      <td>1.0</td>\n",
       "      <td>2708</td>\n",
       "    </tr>\n",
       "    <tr>\n",
       "      <th>Manual</th>\n",
       "      <td>18.0</td>\n",
       "      <td>456.0</td>\n",
       "      <td>29.0</td>\n",
       "      <td>1059.0</td>\n",
       "      <td>307.0</td>\n",
       "      <td>720.0</td>\n",
       "      <td>81.0</td>\n",
       "      <td>3.0</td>\n",
       "      <td>1684.0</td>\n",
       "      <td>2.0</td>\n",
       "      <td>NaN</td>\n",
       "      <td>NaN</td>\n",
       "      <td>4.0</td>\n",
       "      <td>2.0</td>\n",
       "      <td>NaN</td>\n",
       "      <td>NaN</td>\n",
       "      <td>4.0</td>\n",
       "      <td>NaN</td>\n",
       "      <td>NaN</td>\n",
       "      <td>4369</td>\n",
       "    </tr>\n",
       "  </tbody>\n",
       "</table>\n",
       "</div>"
      ],
      "text/plain": [
       "             fuelType                                                        \\\n",
       "engineSize        0.0    1.0   1.2     1.4    1.5    1.6   1.8  1.9     2.0   \n",
       "transmission                                                                  \n",
       "Automatic        39.0   32.0   2.0   138.0  144.0   96.0  22.0  1.0  1532.0   \n",
       "Manual           18.0  456.0  29.0  1059.0  307.0  720.0  81.0  3.0  1684.0   \n",
       "\n",
       "                                                                             \n",
       "engineSize     2.5  2.7   2.9    3.0  3.2   4.0  4.1   4.2   5.2  6.3   All  \n",
       "transmission                                                                 \n",
       "Automatic     21.0  2.0  25.0  546.0  3.0  76.0  1.0  13.0  14.0  1.0  2708  \n",
       "Manual         2.0  NaN   NaN    4.0  2.0   NaN  NaN   4.0   NaN  NaN  4369  "
      ]
     },
     "execution_count": 311,
     "metadata": {},
     "output_type": "execute_result"
    }
   ],
   "source": [
    "df.loc[:,'0':'1.5'] = df.loc[:,'0':'1.5'].div(df['fuelType']['All'], axis=0)\n",
    "df['fuelType']['All'] = df['fuelType']['All'] / sum(df['fuelType']['All'])\n",
    "perc_crosstab = df\n",
    "perc_crosstab"
   ]
  },
  {
   "cell_type": "markdown",
   "id": "898b9c8e",
   "metadata": {},
   "source": [
    "### Exploring two numerical variables"
   ]
  },
  {
   "cell_type": "code",
   "execution_count": 313,
   "id": "21014d1c",
   "metadata": {},
   "outputs": [
    {
     "data": {
      "text/plain": [
       "<AxesSubplot:xlabel='price', ylabel='mileage'>"
      ]
     },
     "execution_count": 313,
     "metadata": {},
     "output_type": "execute_result"
    },
    {
     "data": {
      "image/png": "[encoded data removed]",
      "text/plain": [
       "<Figure size 720x288 with 1 Axes>"
      ]
     },
     "metadata": {
      "filenames": {
       "image/png": "/Users/ankitbit/Documents/Lectures/a-pinch-of-statistics/_build/jupyter_execute/exploratory-data-analysis_74_1.png"
      }
     },
     "output_type": "display_data"
    }
   ],
   "source": [
    "cars.plot.scatter(x='price', \n",
    "                            y='mileage', \n",
    "                            color = 'royalblue',\n",
    "                            figsize=(10, 4))"
   ]
  },
  {
   "cell_type": "code",
   "execution_count": 384,
   "id": "6a7aeaa0",
   "metadata": {},
   "outputs": [
    {
     "data": {
      "text/plain": [
       "<AxesSubplot:xlabel='price', ylabel='mileage'>"
      ]
     },
     "execution_count": 384,
     "metadata": {},
     "output_type": "execute_result"
    },
    {
     "data": {
      "image/png": "[encoded data removed]",
      "text/plain": [
       "<Figure size 720x360 with 1 Axes>"
      ]
     },
     "metadata": {
      "filenames": {
       "image/png": "/Users/ankitbit/Documents/Lectures/a-pinch-of-statistics/_build/jupyter_execute/exploratory-data-analysis_75_1.png"
      }
     },
     "output_type": "display_data"
    }
   ],
   "source": [
    "sns.set_style(\"darkgrid\")\n",
    "sns.regplot(data= cars, \n",
    "            x= 'price', y= 'mileage',\n",
    "            order=5,\n",
    "            scatter_kws={\"color\": \"skyblue\"}, line_kws={\"color\": \"tomato\"},\n",
    "            )"
   ]
  },
  {
   "cell_type": "code",
   "execution_count": null,
   "id": "d4e8f805",
   "metadata": {},
   "outputs": [],
   "source": []
  },
  {
   "cell_type": "markdown",
   "id": "8441ae4c",
   "metadata": {},
   "source": [
    "### Exploring a numeric variable along with a categorical variable"
   ]
  },
  {
   "cell_type": "code",
   "execution_count": 115,
   "id": "ab88b1d2",
   "metadata": {},
   "outputs": [
    {
     "data": {
      "text/plain": [
       "<AxesSubplot:xlabel='age', ylabel='job'>"
      ]
     },
     "execution_count": 115,
     "metadata": {},
     "output_type": "execute_result"
    },
    {
     "data": {
      "image/png": "[encoded data removed]",
      "text/plain": [
       "<Figure size 864x576 with 1 Axes>"
      ]
     },
     "metadata": {
      "filenames": {
       "image/png": "/Users/ankitbit/Documents/Lectures/a-pinch-of-statistics/_build/jupyter_execute/exploratory-data-analysis_78_1.png"
      }
     },
     "output_type": "display_data"
    }
   ],
   "source": [
    "sns.set(style=\"darkgrid\",\n",
    "        rc={\"figure.figsize\": (12, 8)})\n",
    "sns.boxplot(data= dating_profiles,\n",
    "            x= 'age', y= 'job')"
   ]
  },
  {
   "cell_type": "code",
   "execution_count": 385,
   "id": "d2126013",
   "metadata": {},
   "outputs": [
    {
     "data": {
      "text/html": [
       "<div>\n",
       "<style scoped>\n",
       "    .dataframe tbody tr th:only-of-type {\n",
       "        vertical-align: middle;\n",
       "    }\n",
       "\n",
       "    .dataframe tbody tr th {\n",
       "        vertical-align: top;\n",
       "    }\n",
       "\n",
       "    .dataframe thead th {\n",
       "        text-align: right;\n",
       "    }\n",
       "</style>\n",
       "<table border=\"1\" class=\"dataframe\">\n",
       "  <thead>\n",
       "    <tr style=\"text-align: right;\">\n",
       "      <th></th>\n",
       "      <th>age</th>\n",
       "      <th>status</th>\n",
       "      <th>sex</th>\n",
       "      <th>orientation</th>\n",
       "      <th>body_type</th>\n",
       "      <th>diet</th>\n",
       "      <th>drinks</th>\n",
       "      <th>drugs</th>\n",
       "      <th>education</th>\n",
       "      <th>ethnicity</th>\n",
       "      <th>height</th>\n",
       "      <th>income</th>\n",
       "      <th>job</th>\n",
       "      <th>last_online</th>\n",
       "      <th>location</th>\n",
       "      <th>sign</th>\n",
       "    </tr>\n",
       "  </thead>\n",
       "  <tbody>\n",
       "    <tr>\n",
       "      <th>2512</th>\n",
       "      <td>110</td>\n",
       "      <td>single</td>\n",
       "      <td>f</td>\n",
       "      <td>straight</td>\n",
       "      <td>NaN</td>\n",
       "      <td>NaN</td>\n",
       "      <td>NaN</td>\n",
       "      <td>NaN</td>\n",
       "      <td>NaN</td>\n",
       "      <td>NaN</td>\n",
       "      <td>67.0</td>\n",
       "      <td>-1</td>\n",
       "      <td>NaN</td>\n",
       "      <td>2012-06-27-22-16</td>\n",
       "      <td>daly city, california</td>\n",
       "      <td>NaN</td>\n",
       "    </tr>\n",
       "    <tr>\n",
       "      <th>25324</th>\n",
       "      <td>109</td>\n",
       "      <td>available</td>\n",
       "      <td>m</td>\n",
       "      <td>straight</td>\n",
       "      <td>athletic</td>\n",
       "      <td>mostly other</td>\n",
       "      <td>NaN</td>\n",
       "      <td>never</td>\n",
       "      <td>working on masters program</td>\n",
       "      <td>NaN</td>\n",
       "      <td>95.0</td>\n",
       "      <td>-1</td>\n",
       "      <td>student</td>\n",
       "      <td>2012-06-30-18-18</td>\n",
       "      <td>san francisco, california</td>\n",
       "      <td>aquarius but it doesn&amp;rsquo;t matter</td>\n",
       "    </tr>\n",
       "  </tbody>\n",
       "</table>\n",
       "</div>"
      ],
      "text/plain": [
       "       age     status sex orientation body_type          diet drinks  drugs  \\\n",
       "2512   110     single   f    straight       NaN           NaN    NaN    NaN   \n",
       "25324  109  available   m    straight  athletic  mostly other    NaN  never   \n",
       "\n",
       "                        education ethnicity  height  income      job  \\\n",
       "2512                          NaN       NaN    67.0      -1      NaN   \n",
       "25324  working on masters program       NaN    95.0      -1  student   \n",
       "\n",
       "            last_online                   location  \\\n",
       "2512   2012-06-27-22-16      daly city, california   \n",
       "25324  2012-06-30-18-18  san francisco, california   \n",
       "\n",
       "                                       sign  \n",
       "2512                                    NaN  \n",
       "25324  aquarius but it doesn&rsquo;t matter  "
      ]
     },
     "execution_count": 385,
     "metadata": {},
     "output_type": "execute_result"
    }
   ],
   "source": [
    "dating_profiles[dating_profiles['age']>100]"
   ]
  },
  {
   "cell_type": "code",
   "execution_count": null,
   "id": "7b82c552",
   "metadata": {},
   "outputs": [],
   "source": []
  }
 ],
 "metadata": {
  "kernelspec": {
   "display_name": "Python 3",
   "language": "python",
   "name": "python3"
  },
  "language_info": {
   "codemirror_mode": {
    "name": "ipython",
    "version": 3
   },
   "file_extension": ".py",
   "mimetype": "text/x-python",
   "name": "python",
   "nbconvert_exporter": "python",
   "pygments_lexer": "ipython3",
   "version": "3.9.13"
  }
 },
 "nbformat": 4,
 "nbformat_minor": 5
}